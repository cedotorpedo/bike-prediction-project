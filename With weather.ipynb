{
 "cells": [
  {
   "cell_type": "markdown",
   "id": "18cc7ae5-7438-402e-8196-bb931e3e6c6f",
   "metadata": {
    "tags": []
   },
   "source": [
    "# RAMP on predicting cyclist traffic in Paris\n",
    "\n",
    "Authors: *Roman Yurchak (Symerio)*; also partially inspired by the air_passengers starting kit.\n",
    "\n",
    "\n",
    "## Introduction\n",
    "\n",
    "The dataset was collected with cyclist counters installed by Paris city council in multiple locations. It contains hourly information about cyclist traffic, as well as the following features,\n",
    " - counter name\n",
    " - counter site name\n",
    " - date\n",
    " - counter installation date\n",
    " - latitude and longitude\n",
    " \n",
    "Available features are quite scarce. However, **we can also use any external data that can help us to predict the target variable.** "
   ]
  },
  {
   "cell_type": "code",
   "execution_count": 1,
   "id": "d0a4cf3f-8907-443b-adff-6fe13ef29d65",
   "metadata": {},
   "outputs": [],
   "source": [
    "from pathlib import Path\n",
    "\n",
    "import numpy as np\n",
    "import pandas as pd\n",
    "import matplotlib.pyplot as plt\n",
    "import sklearn\n",
    "from sklearn.preprocessing import StandardScaler\n",
    "\n",
    "import tensorflow as tf\n",
    "from tensorflow.keras.models import Sequential\n",
    "from tensorflow.keras.layers import Dense\n",
    "from tensorflow.keras.activations import linear, relu, sigmoid\n",
    "\n",
    "import xgboost as xgb\n",
    "from sklearn.model_selection import GridSearchCV"
   ]
  },
  {
   "cell_type": "markdown",
   "id": "c5117809-38b8-44f8-8b09-a99989ef1d50",
   "metadata": {},
   "source": [
    "# Loading the data with pandas\n",
    "\n",
    "First, download the data files,\n",
    " - [train.parquet](https://github.com/rth/bike_counters/releases/download/v0.1.0/train.parquet)\n",
    " - [test.parquet](https://github.com/rth/bike_counters/releases/download/v0.1.0/test.parquet)\n",
    "\n",
    "and put them to into the data folder.\n",
    "\n",
    "\n",
    "Data is stored in [Parquet format](https://parquet.apache.org/), an efficient columnar data format. We can load the train set with pandas,"
   ]
  },
  {
   "cell_type": "code",
   "execution_count": 2,
   "id": "61c60288-e71b-46ae-9eb3-d916d2abc876",
   "metadata": {},
   "outputs": [],
   "source": [
    "data = pd.read_parquet(Path(\"data\") / \"train.parquet\")"
   ]
  },
  {
   "cell_type": "code",
   "execution_count": 3,
   "id": "a9664388",
   "metadata": {},
   "outputs": [],
   "source": [
    "# Categorical and numerical ['date','pmer','tend','cod_tend','ff','t','u','vv','ww','w1','w2','nbas','pres','tend24']\n",
    "# Just numerical [ ]"
   ]
  },
  {
   "cell_type": "code",
   "execution_count": 4,
   "id": "d258ad1d",
   "metadata": {},
   "outputs": [],
   "source": [
    "data_weather = pd.read_csv('submissions/external_data/external_data.csv')\n",
    "data_weather = data_weather.loc[:, data_weather.columns.intersection(['date','pmer','ff','t','u','vv',\n",
    "                                                                     'pres'])]"
   ]
  },
  {
   "cell_type": "code",
   "execution_count": 5,
   "id": "f499da2a",
   "metadata": {},
   "outputs": [],
   "source": [
    "data_weather[\"date\"] = pd.to_datetime(data_weather[\"date\"], format = \"%Y-%m-%d %H:%M:%S\")"
   ]
  },
  {
   "cell_type": "code",
   "execution_count": 6,
   "id": "eeba6fdb",
   "metadata": {},
   "outputs": [],
   "source": [
    "mask1 = (data.date >= \"2020-09-01\") & (data.date < \"2020-09-02\") & (data.site_name == '28 boulevard Diderot')"
   ]
  },
  {
   "cell_type": "code",
   "execution_count": 7,
   "id": "8fb0f087",
   "metadata": {},
   "outputs": [],
   "source": [
    "mask2 = (data_weather.date >= \"2020-09-01\") & (data_weather.date < \"2020-09-02\") "
   ]
  },
  {
   "cell_type": "code",
   "execution_count": 8,
   "id": "1a4b106e",
   "metadata": {},
   "outputs": [
    {
     "data": {
      "text/plain": [
       "(46, 12)"
      ]
     },
     "execution_count": 8,
     "metadata": {},
     "output_type": "execute_result"
    }
   ],
   "source": [
    "data[mask1].shape"
   ]
  },
  {
   "cell_type": "code",
   "execution_count": 9,
   "id": "b6eb4b85",
   "metadata": {},
   "outputs": [
    {
     "data": {
      "text/html": [
       "<div>\n",
       "<style scoped>\n",
       "    .dataframe tbody tr th:only-of-type {\n",
       "        vertical-align: middle;\n",
       "    }\n",
       "\n",
       "    .dataframe tbody tr th {\n",
       "        vertical-align: top;\n",
       "    }\n",
       "\n",
       "    .dataframe thead th {\n",
       "        text-align: right;\n",
       "    }\n",
       "</style>\n",
       "<table border=\"1\" class=\"dataframe\">\n",
       "  <thead>\n",
       "    <tr style=\"text-align: right;\">\n",
       "      <th></th>\n",
       "      <th>date</th>\n",
       "      <th>pmer</th>\n",
       "      <th>ff</th>\n",
       "      <th>t</th>\n",
       "      <th>u</th>\n",
       "      <th>vv</th>\n",
       "      <th>pres</th>\n",
       "    </tr>\n",
       "  </thead>\n",
       "  <tbody>\n",
       "    <tr>\n",
       "      <th>3082</th>\n",
       "      <td>2020-09-01 00:00:00</td>\n",
       "      <td>102050</td>\n",
       "      <td>1.6</td>\n",
       "      <td>285.75</td>\n",
       "      <td>81</td>\n",
       "      <td>30000</td>\n",
       "      <td>100960</td>\n",
       "    </tr>\n",
       "    <tr>\n",
       "      <th>3083</th>\n",
       "      <td>2020-09-01 03:00:00</td>\n",
       "      <td>101990</td>\n",
       "      <td>1.1</td>\n",
       "      <td>283.95</td>\n",
       "      <td>88</td>\n",
       "      <td>25000</td>\n",
       "      <td>100900</td>\n",
       "    </tr>\n",
       "    <tr>\n",
       "      <th>3084</th>\n",
       "      <td>2020-09-01 06:00:00</td>\n",
       "      <td>102000</td>\n",
       "      <td>1.8</td>\n",
       "      <td>284.25</td>\n",
       "      <td>91</td>\n",
       "      <td>25000</td>\n",
       "      <td>100910</td>\n",
       "    </tr>\n",
       "    <tr>\n",
       "      <th>3085</th>\n",
       "      <td>2020-09-01 09:00:00</td>\n",
       "      <td>101970</td>\n",
       "      <td>2.9</td>\n",
       "      <td>291.25</td>\n",
       "      <td>60</td>\n",
       "      <td>19830</td>\n",
       "      <td>100910</td>\n",
       "    </tr>\n",
       "    <tr>\n",
       "      <th>3086</th>\n",
       "      <td>2020-09-01 12:00:00</td>\n",
       "      <td>101850</td>\n",
       "      <td>2.6</td>\n",
       "      <td>293.95</td>\n",
       "      <td>44</td>\n",
       "      <td>21000</td>\n",
       "      <td>100800</td>\n",
       "    </tr>\n",
       "    <tr>\n",
       "      <th>3087</th>\n",
       "      <td>2020-09-01 15:00:00</td>\n",
       "      <td>101740</td>\n",
       "      <td>4.0</td>\n",
       "      <td>293.65</td>\n",
       "      <td>41</td>\n",
       "      <td>30000</td>\n",
       "      <td>100690</td>\n",
       "    </tr>\n",
       "    <tr>\n",
       "      <th>3088</th>\n",
       "      <td>2020-09-01 18:00:00</td>\n",
       "      <td>101760</td>\n",
       "      <td>3.0</td>\n",
       "      <td>292.15</td>\n",
       "      <td>47</td>\n",
       "      <td>30000</td>\n",
       "      <td>100700</td>\n",
       "    </tr>\n",
       "    <tr>\n",
       "      <th>3089</th>\n",
       "      <td>2020-09-01 21:00:00</td>\n",
       "      <td>101880</td>\n",
       "      <td>2.7</td>\n",
       "      <td>289.35</td>\n",
       "      <td>53</td>\n",
       "      <td>30000</td>\n",
       "      <td>100810</td>\n",
       "    </tr>\n",
       "  </tbody>\n",
       "</table>\n",
       "</div>"
      ],
      "text/plain": [
       "                    date    pmer   ff       t   u     vv    pres\n",
       "3082 2020-09-01 00:00:00  102050  1.6  285.75  81  30000  100960\n",
       "3083 2020-09-01 03:00:00  101990  1.1  283.95  88  25000  100900\n",
       "3084 2020-09-01 06:00:00  102000  1.8  284.25  91  25000  100910\n",
       "3085 2020-09-01 09:00:00  101970  2.9  291.25  60  19830  100910\n",
       "3086 2020-09-01 12:00:00  101850  2.6  293.95  44  21000  100800\n",
       "3087 2020-09-01 15:00:00  101740  4.0  293.65  41  30000  100690\n",
       "3088 2020-09-01 18:00:00  101760  3.0  292.15  47  30000  100700\n",
       "3089 2020-09-01 21:00:00  101880  2.7  289.35  53  30000  100810"
      ]
     },
     "execution_count": 9,
     "metadata": {},
     "output_type": "execute_result"
    }
   ],
   "source": [
    "data_weather[mask2]"
   ]
  },
  {
   "cell_type": "code",
   "execution_count": 10,
   "id": "745fedf9-07e4-4020-b3b5-484b721675ed",
   "metadata": {
    "scrolled": false
   },
   "outputs": [
    {
     "data": {
      "text/html": [
       "<div>\n",
       "<style scoped>\n",
       "    .dataframe tbody tr th:only-of-type {\n",
       "        vertical-align: middle;\n",
       "    }\n",
       "\n",
       "    .dataframe tbody tr th {\n",
       "        vertical-align: top;\n",
       "    }\n",
       "\n",
       "    .dataframe thead th {\n",
       "        text-align: right;\n",
       "    }\n",
       "</style>\n",
       "<table border=\"1\" class=\"dataframe\">\n",
       "  <thead>\n",
       "    <tr style=\"text-align: right;\">\n",
       "      <th></th>\n",
       "      <th>counter_id</th>\n",
       "      <th>counter_name</th>\n",
       "      <th>site_id</th>\n",
       "      <th>site_name</th>\n",
       "      <th>bike_count</th>\n",
       "      <th>date</th>\n",
       "      <th>counter_installation_date</th>\n",
       "      <th>coordinates</th>\n",
       "      <th>counter_technical_id</th>\n",
       "      <th>latitude</th>\n",
       "      <th>longitude</th>\n",
       "      <th>log_bike_count</th>\n",
       "    </tr>\n",
       "  </thead>\n",
       "  <tbody>\n",
       "    <tr>\n",
       "      <th>48321</th>\n",
       "      <td>100007049-102007049</td>\n",
       "      <td>28 boulevard Diderot E-O</td>\n",
       "      <td>100007049</td>\n",
       "      <td>28 boulevard Diderot</td>\n",
       "      <td>0.0</td>\n",
       "      <td>2020-09-01 02:00:00</td>\n",
       "      <td>2013-01-18</td>\n",
       "      <td>48.846028,2.375429</td>\n",
       "      <td>Y2H15027244</td>\n",
       "      <td>48.846028</td>\n",
       "      <td>2.375429</td>\n",
       "      <td>0.000000</td>\n",
       "    </tr>\n",
       "    <tr>\n",
       "      <th>48324</th>\n",
       "      <td>100007049-102007049</td>\n",
       "      <td>28 boulevard Diderot E-O</td>\n",
       "      <td>100007049</td>\n",
       "      <td>28 boulevard Diderot</td>\n",
       "      <td>1.0</td>\n",
       "      <td>2020-09-01 03:00:00</td>\n",
       "      <td>2013-01-18</td>\n",
       "      <td>48.846028,2.375429</td>\n",
       "      <td>Y2H15027244</td>\n",
       "      <td>48.846028</td>\n",
       "      <td>2.375429</td>\n",
       "      <td>0.693147</td>\n",
       "    </tr>\n",
       "    <tr>\n",
       "      <th>48327</th>\n",
       "      <td>100007049-102007049</td>\n",
       "      <td>28 boulevard Diderot E-O</td>\n",
       "      <td>100007049</td>\n",
       "      <td>28 boulevard Diderot</td>\n",
       "      <td>0.0</td>\n",
       "      <td>2020-09-01 04:00:00</td>\n",
       "      <td>2013-01-18</td>\n",
       "      <td>48.846028,2.375429</td>\n",
       "      <td>Y2H15027244</td>\n",
       "      <td>48.846028</td>\n",
       "      <td>2.375429</td>\n",
       "      <td>0.000000</td>\n",
       "    </tr>\n",
       "    <tr>\n",
       "      <th>48330</th>\n",
       "      <td>100007049-102007049</td>\n",
       "      <td>28 boulevard Diderot E-O</td>\n",
       "      <td>100007049</td>\n",
       "      <td>28 boulevard Diderot</td>\n",
       "      <td>4.0</td>\n",
       "      <td>2020-09-01 15:00:00</td>\n",
       "      <td>2013-01-18</td>\n",
       "      <td>48.846028,2.375429</td>\n",
       "      <td>Y2H15027244</td>\n",
       "      <td>48.846028</td>\n",
       "      <td>2.375429</td>\n",
       "      <td>1.609438</td>\n",
       "    </tr>\n",
       "    <tr>\n",
       "      <th>48333</th>\n",
       "      <td>100007049-102007049</td>\n",
       "      <td>28 boulevard Diderot E-O</td>\n",
       "      <td>100007049</td>\n",
       "      <td>28 boulevard Diderot</td>\n",
       "      <td>9.0</td>\n",
       "      <td>2020-09-01 18:00:00</td>\n",
       "      <td>2013-01-18</td>\n",
       "      <td>48.846028,2.375429</td>\n",
       "      <td>Y2H15027244</td>\n",
       "      <td>48.846028</td>\n",
       "      <td>2.375429</td>\n",
       "      <td>2.302585</td>\n",
       "    </tr>\n",
       "  </tbody>\n",
       "</table>\n",
       "</div>"
      ],
      "text/plain": [
       "                counter_id              counter_name    site_id  \\\n",
       "48321  100007049-102007049  28 boulevard Diderot E-O  100007049   \n",
       "48324  100007049-102007049  28 boulevard Diderot E-O  100007049   \n",
       "48327  100007049-102007049  28 boulevard Diderot E-O  100007049   \n",
       "48330  100007049-102007049  28 boulevard Diderot E-O  100007049   \n",
       "48333  100007049-102007049  28 boulevard Diderot E-O  100007049   \n",
       "\n",
       "                  site_name  bike_count                date  \\\n",
       "48321  28 boulevard Diderot         0.0 2020-09-01 02:00:00   \n",
       "48324  28 boulevard Diderot         1.0 2020-09-01 03:00:00   \n",
       "48327  28 boulevard Diderot         0.0 2020-09-01 04:00:00   \n",
       "48330  28 boulevard Diderot         4.0 2020-09-01 15:00:00   \n",
       "48333  28 boulevard Diderot         9.0 2020-09-01 18:00:00   \n",
       "\n",
       "      counter_installation_date         coordinates counter_technical_id  \\\n",
       "48321                2013-01-18  48.846028,2.375429          Y2H15027244   \n",
       "48324                2013-01-18  48.846028,2.375429          Y2H15027244   \n",
       "48327                2013-01-18  48.846028,2.375429          Y2H15027244   \n",
       "48330                2013-01-18  48.846028,2.375429          Y2H15027244   \n",
       "48333                2013-01-18  48.846028,2.375429          Y2H15027244   \n",
       "\n",
       "        latitude  longitude  log_bike_count  \n",
       "48321  48.846028   2.375429        0.000000  \n",
       "48324  48.846028   2.375429        0.693147  \n",
       "48327  48.846028   2.375429        0.000000  \n",
       "48330  48.846028   2.375429        1.609438  \n",
       "48333  48.846028   2.375429        2.302585  "
      ]
     },
     "execution_count": 10,
     "metadata": {},
     "output_type": "execute_result"
    }
   ],
   "source": [
    "data.head()"
   ]
  },
  {
   "cell_type": "markdown",
   "id": "05fe6f9d",
   "metadata": {},
   "source": [
    "# Here we face the first problem: the weather data is not hourly"
   ]
  },
  {
   "cell_type": "code",
   "execution_count": 11,
   "id": "eb137a29",
   "metadata": {},
   "outputs": [],
   "source": [
    "data_test = pd.read_parquet(Path(\"data\") / \"test.parquet\")"
   ]
  },
  {
   "cell_type": "code",
   "execution_count": 12,
   "id": "0008495e",
   "metadata": {},
   "outputs": [
    {
     "data": {
      "text/plain": [
       "Timestamp('2020-09-01 01:00:00')"
      ]
     },
     "execution_count": 12,
     "metadata": {},
     "output_type": "execute_result"
    }
   ],
   "source": [
    "data.date.min()"
   ]
  },
  {
   "cell_type": "code",
   "execution_count": 13,
   "id": "b60e8f08",
   "metadata": {},
   "outputs": [
    {
     "data": {
      "text/plain": [
       "Timestamp('2021-09-09 23:00:00')"
      ]
     },
     "execution_count": 13,
     "metadata": {},
     "output_type": "execute_result"
    }
   ],
   "source": [
    "data_test.date.max()"
   ]
  },
  {
   "cell_type": "markdown",
   "id": "e488c773-761d-48fb-9d26-3c4b55e3f2b7",
   "metadata": {},
   "source": [
    "We can check general information about different columns,"
   ]
  },
  {
   "cell_type": "code",
   "execution_count": 14,
   "id": "e2649650-6e2a-4641-8221-266c829aec37",
   "metadata": {},
   "outputs": [
    {
     "name": "stdout",
     "output_type": "stream",
     "text": [
      "<class 'pandas.core.frame.DataFrame'>\n",
      "Int64Index: 455163 entries, 48321 to 928462\n",
      "Data columns (total 12 columns):\n",
      " #   Column                     Non-Null Count   Dtype         \n",
      "---  ------                     --------------   -----         \n",
      " 0   counter_id                 455163 non-null  category      \n",
      " 1   counter_name               455163 non-null  category      \n",
      " 2   site_id                    455163 non-null  int64         \n",
      " 3   site_name                  455163 non-null  category      \n",
      " 4   bike_count                 455163 non-null  float64       \n",
      " 5   date                       455163 non-null  datetime64[ns]\n",
      " 6   counter_installation_date  455163 non-null  datetime64[ns]\n",
      " 7   coordinates                455163 non-null  category      \n",
      " 8   counter_technical_id       455163 non-null  category      \n",
      " 9   latitude                   455163 non-null  float64       \n",
      " 10  longitude                  455163 non-null  float64       \n",
      " 11  log_bike_count             455163 non-null  float64       \n",
      "dtypes: category(5), datetime64[ns](2), float64(4), int64(1)\n",
      "memory usage: 30.0 MB\n"
     ]
    }
   ],
   "source": [
    "data.info()"
   ]
  },
  {
   "cell_type": "markdown",
   "id": "586ebce3-c013-4c5e-ab78-03a8d8d86d7e",
   "metadata": {},
   "source": [
    "and in particular the number of unique entries in each column,"
   ]
  },
  {
   "cell_type": "code",
   "execution_count": 15,
   "id": "0a88d812-daf9-451d-baa6-67bf735ae368",
   "metadata": {},
   "outputs": [
    {
     "data": {
      "text/plain": [
       "counter_id                     56\n",
       "counter_name                   56\n",
       "site_id                        30\n",
       "site_name                      30\n",
       "bike_count                    977\n",
       "date                         8230\n",
       "counter_installation_date      22\n",
       "coordinates                    30\n",
       "counter_technical_id           30\n",
       "latitude                       30\n",
       "longitude                      30\n",
       "log_bike_count                977\n",
       "dtype: int64"
      ]
     },
     "execution_count": 15,
     "metadata": {},
     "output_type": "execute_result"
    }
   ],
   "source": [
    "data.nunique(axis=0)"
   ]
  },
  {
   "cell_type": "markdown",
   "id": "baebecc5",
   "metadata": {},
   "source": [
    "# NOW THE WEATHER"
   ]
  },
  {
   "cell_type": "markdown",
   "id": "814a776c",
   "metadata": {},
   "source": [
    "## We select a couple numerical features for now"
   ]
  },
  {
   "cell_type": "code",
   "execution_count": 16,
   "id": "dfa8b1b0",
   "metadata": {},
   "outputs": [
    {
     "name": "stdout",
     "output_type": "stream",
     "text": [
      "<class 'pandas.core.frame.DataFrame'>\n",
      "RangeIndex: 3322 entries, 0 to 3321\n",
      "Data columns (total 7 columns):\n",
      " #   Column  Non-Null Count  Dtype         \n",
      "---  ------  --------------  -----         \n",
      " 0   date    3322 non-null   datetime64[ns]\n",
      " 1   pmer    3322 non-null   int64         \n",
      " 2   ff      3322 non-null   float64       \n",
      " 3   t       3322 non-null   float64       \n",
      " 4   u       3322 non-null   int64         \n",
      " 5   vv      3322 non-null   int64         \n",
      " 6   pres    3322 non-null   int64         \n",
      "dtypes: datetime64[ns](1), float64(2), int64(4)\n",
      "memory usage: 181.8 KB\n"
     ]
    }
   ],
   "source": [
    "data_weather.info()"
   ]
  },
  {
   "cell_type": "code",
   "execution_count": 17,
   "id": "974bb8ea",
   "metadata": {},
   "outputs": [
    {
     "data": {
      "text/plain": [
       "date    3321\n",
       "pmer     465\n",
       "ff       109\n",
       "t        345\n",
       "u         77\n",
       "vv      1230\n",
       "pres     459\n",
       "dtype: int64"
      ]
     },
     "execution_count": 17,
     "metadata": {},
     "output_type": "execute_result"
    }
   ],
   "source": [
    "data_weather.nunique(axis=0)"
   ]
  },
  {
   "cell_type": "code",
   "execution_count": 18,
   "id": "456cfa61",
   "metadata": {
    "scrolled": true
   },
   "outputs": [
    {
     "data": {
      "text/plain": [
       "date    0\n",
       "pmer    0\n",
       "ff      0\n",
       "t       0\n",
       "u       0\n",
       "vv      0\n",
       "pres    0\n",
       "dtype: int64"
      ]
     },
     "execution_count": 18,
     "metadata": {},
     "output_type": "execute_result"
    }
   ],
   "source": [
    "data_weather.isna().sum()"
   ]
  },
  {
   "cell_type": "code",
   "execution_count": 19,
   "id": "4aae959d",
   "metadata": {},
   "outputs": [],
   "source": [
    "data_weather.dropna(inplace = True)"
   ]
  },
  {
   "cell_type": "code",
   "execution_count": 20,
   "id": "02ad9573",
   "metadata": {},
   "outputs": [
    {
     "data": {
      "text/html": [
       "<div>\n",
       "<style scoped>\n",
       "    .dataframe tbody tr th:only-of-type {\n",
       "        vertical-align: middle;\n",
       "    }\n",
       "\n",
       "    .dataframe tbody tr th {\n",
       "        vertical-align: top;\n",
       "    }\n",
       "\n",
       "    .dataframe thead th {\n",
       "        text-align: right;\n",
       "    }\n",
       "</style>\n",
       "<table border=\"1\" class=\"dataframe\">\n",
       "  <thead>\n",
       "    <tr style=\"text-align: right;\">\n",
       "      <th></th>\n",
       "      <th>counter_id</th>\n",
       "      <th>counter_name</th>\n",
       "      <th>site_id</th>\n",
       "      <th>site_name</th>\n",
       "      <th>bike_count</th>\n",
       "      <th>date</th>\n",
       "      <th>counter_installation_date</th>\n",
       "      <th>coordinates</th>\n",
       "      <th>counter_technical_id</th>\n",
       "      <th>latitude</th>\n",
       "      <th>longitude</th>\n",
       "      <th>log_bike_count</th>\n",
       "    </tr>\n",
       "  </thead>\n",
       "  <tbody>\n",
       "    <tr>\n",
       "      <th>48321</th>\n",
       "      <td>100007049-102007049</td>\n",
       "      <td>28 boulevard Diderot E-O</td>\n",
       "      <td>100007049</td>\n",
       "      <td>28 boulevard Diderot</td>\n",
       "      <td>0.0</td>\n",
       "      <td>2020-09-01 02:00:00</td>\n",
       "      <td>2013-01-18</td>\n",
       "      <td>48.846028,2.375429</td>\n",
       "      <td>Y2H15027244</td>\n",
       "      <td>48.846028</td>\n",
       "      <td>2.375429</td>\n",
       "      <td>0.000000</td>\n",
       "    </tr>\n",
       "    <tr>\n",
       "      <th>48324</th>\n",
       "      <td>100007049-102007049</td>\n",
       "      <td>28 boulevard Diderot E-O</td>\n",
       "      <td>100007049</td>\n",
       "      <td>28 boulevard Diderot</td>\n",
       "      <td>1.0</td>\n",
       "      <td>2020-09-01 03:00:00</td>\n",
       "      <td>2013-01-18</td>\n",
       "      <td>48.846028,2.375429</td>\n",
       "      <td>Y2H15027244</td>\n",
       "      <td>48.846028</td>\n",
       "      <td>2.375429</td>\n",
       "      <td>0.693147</td>\n",
       "    </tr>\n",
       "    <tr>\n",
       "      <th>48327</th>\n",
       "      <td>100007049-102007049</td>\n",
       "      <td>28 boulevard Diderot E-O</td>\n",
       "      <td>100007049</td>\n",
       "      <td>28 boulevard Diderot</td>\n",
       "      <td>0.0</td>\n",
       "      <td>2020-09-01 04:00:00</td>\n",
       "      <td>2013-01-18</td>\n",
       "      <td>48.846028,2.375429</td>\n",
       "      <td>Y2H15027244</td>\n",
       "      <td>48.846028</td>\n",
       "      <td>2.375429</td>\n",
       "      <td>0.000000</td>\n",
       "    </tr>\n",
       "    <tr>\n",
       "      <th>48330</th>\n",
       "      <td>100007049-102007049</td>\n",
       "      <td>28 boulevard Diderot E-O</td>\n",
       "      <td>100007049</td>\n",
       "      <td>28 boulevard Diderot</td>\n",
       "      <td>4.0</td>\n",
       "      <td>2020-09-01 15:00:00</td>\n",
       "      <td>2013-01-18</td>\n",
       "      <td>48.846028,2.375429</td>\n",
       "      <td>Y2H15027244</td>\n",
       "      <td>48.846028</td>\n",
       "      <td>2.375429</td>\n",
       "      <td>1.609438</td>\n",
       "    </tr>\n",
       "    <tr>\n",
       "      <th>48333</th>\n",
       "      <td>100007049-102007049</td>\n",
       "      <td>28 boulevard Diderot E-O</td>\n",
       "      <td>100007049</td>\n",
       "      <td>28 boulevard Diderot</td>\n",
       "      <td>9.0</td>\n",
       "      <td>2020-09-01 18:00:00</td>\n",
       "      <td>2013-01-18</td>\n",
       "      <td>48.846028,2.375429</td>\n",
       "      <td>Y2H15027244</td>\n",
       "      <td>48.846028</td>\n",
       "      <td>2.375429</td>\n",
       "      <td>2.302585</td>\n",
       "    </tr>\n",
       "    <tr>\n",
       "      <th>...</th>\n",
       "      <td>...</td>\n",
       "      <td>...</td>\n",
       "      <td>...</td>\n",
       "      <td>...</td>\n",
       "      <td>...</td>\n",
       "      <td>...</td>\n",
       "      <td>...</td>\n",
       "      <td>...</td>\n",
       "      <td>...</td>\n",
       "      <td>...</td>\n",
       "      <td>...</td>\n",
       "      <td>...</td>\n",
       "    </tr>\n",
       "    <tr>\n",
       "      <th>928450</th>\n",
       "      <td>300014702-353245971</td>\n",
       "      <td>254 rue de Vaugirard SO-NE</td>\n",
       "      <td>300014702</td>\n",
       "      <td>254 rue de Vaugirard</td>\n",
       "      <td>51.0</td>\n",
       "      <td>2021-08-08 18:00:00</td>\n",
       "      <td>2020-11-29</td>\n",
       "      <td>48.83977,2.30198</td>\n",
       "      <td>Y2H20114504</td>\n",
       "      <td>48.839770</td>\n",
       "      <td>2.301980</td>\n",
       "      <td>3.951244</td>\n",
       "    </tr>\n",
       "    <tr>\n",
       "      <th>928453</th>\n",
       "      <td>300014702-353245971</td>\n",
       "      <td>254 rue de Vaugirard SO-NE</td>\n",
       "      <td>300014702</td>\n",
       "      <td>254 rue de Vaugirard</td>\n",
       "      <td>1.0</td>\n",
       "      <td>2021-08-09 02:00:00</td>\n",
       "      <td>2020-11-29</td>\n",
       "      <td>48.83977,2.30198</td>\n",
       "      <td>Y2H20114504</td>\n",
       "      <td>48.839770</td>\n",
       "      <td>2.301980</td>\n",
       "      <td>0.693147</td>\n",
       "    </tr>\n",
       "    <tr>\n",
       "      <th>928456</th>\n",
       "      <td>300014702-353245971</td>\n",
       "      <td>254 rue de Vaugirard SO-NE</td>\n",
       "      <td>300014702</td>\n",
       "      <td>254 rue de Vaugirard</td>\n",
       "      <td>61.0</td>\n",
       "      <td>2021-08-09 08:00:00</td>\n",
       "      <td>2020-11-29</td>\n",
       "      <td>48.83977,2.30198</td>\n",
       "      <td>Y2H20114504</td>\n",
       "      <td>48.839770</td>\n",
       "      <td>2.301980</td>\n",
       "      <td>4.127134</td>\n",
       "    </tr>\n",
       "    <tr>\n",
       "      <th>928459</th>\n",
       "      <td>300014702-353245971</td>\n",
       "      <td>254 rue de Vaugirard SO-NE</td>\n",
       "      <td>300014702</td>\n",
       "      <td>254 rue de Vaugirard</td>\n",
       "      <td>44.0</td>\n",
       "      <td>2021-08-09 10:00:00</td>\n",
       "      <td>2020-11-29</td>\n",
       "      <td>48.83977,2.30198</td>\n",
       "      <td>Y2H20114504</td>\n",
       "      <td>48.839770</td>\n",
       "      <td>2.301980</td>\n",
       "      <td>3.806662</td>\n",
       "    </tr>\n",
       "    <tr>\n",
       "      <th>928462</th>\n",
       "      <td>300014702-353245971</td>\n",
       "      <td>254 rue de Vaugirard SO-NE</td>\n",
       "      <td>300014702</td>\n",
       "      <td>254 rue de Vaugirard</td>\n",
       "      <td>83.0</td>\n",
       "      <td>2021-08-09 17:00:00</td>\n",
       "      <td>2020-11-29</td>\n",
       "      <td>48.83977,2.30198</td>\n",
       "      <td>Y2H20114504</td>\n",
       "      <td>48.839770</td>\n",
       "      <td>2.301980</td>\n",
       "      <td>4.430817</td>\n",
       "    </tr>\n",
       "  </tbody>\n",
       "</table>\n",
       "<p>455163 rows × 12 columns</p>\n",
       "</div>"
      ],
      "text/plain": [
       "                 counter_id                counter_name    site_id  \\\n",
       "48321   100007049-102007049    28 boulevard Diderot E-O  100007049   \n",
       "48324   100007049-102007049    28 boulevard Diderot E-O  100007049   \n",
       "48327   100007049-102007049    28 boulevard Diderot E-O  100007049   \n",
       "48330   100007049-102007049    28 boulevard Diderot E-O  100007049   \n",
       "48333   100007049-102007049    28 boulevard Diderot E-O  100007049   \n",
       "...                     ...                         ...        ...   \n",
       "928450  300014702-353245971  254 rue de Vaugirard SO-NE  300014702   \n",
       "928453  300014702-353245971  254 rue de Vaugirard SO-NE  300014702   \n",
       "928456  300014702-353245971  254 rue de Vaugirard SO-NE  300014702   \n",
       "928459  300014702-353245971  254 rue de Vaugirard SO-NE  300014702   \n",
       "928462  300014702-353245971  254 rue de Vaugirard SO-NE  300014702   \n",
       "\n",
       "                   site_name  bike_count                date  \\\n",
       "48321   28 boulevard Diderot         0.0 2020-09-01 02:00:00   \n",
       "48324   28 boulevard Diderot         1.0 2020-09-01 03:00:00   \n",
       "48327   28 boulevard Diderot         0.0 2020-09-01 04:00:00   \n",
       "48330   28 boulevard Diderot         4.0 2020-09-01 15:00:00   \n",
       "48333   28 boulevard Diderot         9.0 2020-09-01 18:00:00   \n",
       "...                      ...         ...                 ...   \n",
       "928450  254 rue de Vaugirard        51.0 2021-08-08 18:00:00   \n",
       "928453  254 rue de Vaugirard         1.0 2021-08-09 02:00:00   \n",
       "928456  254 rue de Vaugirard        61.0 2021-08-09 08:00:00   \n",
       "928459  254 rue de Vaugirard        44.0 2021-08-09 10:00:00   \n",
       "928462  254 rue de Vaugirard        83.0 2021-08-09 17:00:00   \n",
       "\n",
       "       counter_installation_date         coordinates counter_technical_id  \\\n",
       "48321                 2013-01-18  48.846028,2.375429          Y2H15027244   \n",
       "48324                 2013-01-18  48.846028,2.375429          Y2H15027244   \n",
       "48327                 2013-01-18  48.846028,2.375429          Y2H15027244   \n",
       "48330                 2013-01-18  48.846028,2.375429          Y2H15027244   \n",
       "48333                 2013-01-18  48.846028,2.375429          Y2H15027244   \n",
       "...                          ...                 ...                  ...   \n",
       "928450                2020-11-29    48.83977,2.30198          Y2H20114504   \n",
       "928453                2020-11-29    48.83977,2.30198          Y2H20114504   \n",
       "928456                2020-11-29    48.83977,2.30198          Y2H20114504   \n",
       "928459                2020-11-29    48.83977,2.30198          Y2H20114504   \n",
       "928462                2020-11-29    48.83977,2.30198          Y2H20114504   \n",
       "\n",
       "         latitude  longitude  log_bike_count  \n",
       "48321   48.846028   2.375429        0.000000  \n",
       "48324   48.846028   2.375429        0.693147  \n",
       "48327   48.846028   2.375429        0.000000  \n",
       "48330   48.846028   2.375429        1.609438  \n",
       "48333   48.846028   2.375429        2.302585  \n",
       "...           ...        ...             ...  \n",
       "928450  48.839770   2.301980        3.951244  \n",
       "928453  48.839770   2.301980        0.693147  \n",
       "928456  48.839770   2.301980        4.127134  \n",
       "928459  48.839770   2.301980        3.806662  \n",
       "928462  48.839770   2.301980        4.430817  \n",
       "\n",
       "[455163 rows x 12 columns]"
      ]
     },
     "execution_count": 20,
     "metadata": {},
     "output_type": "execute_result"
    }
   ],
   "source": [
    "data"
   ]
  },
  {
   "cell_type": "code",
   "execution_count": 21,
   "id": "437017a6",
   "metadata": {
    "scrolled": true
   },
   "outputs": [
    {
     "data": {
      "text/html": [
       "<div>\n",
       "<style scoped>\n",
       "    .dataframe tbody tr th:only-of-type {\n",
       "        vertical-align: middle;\n",
       "    }\n",
       "\n",
       "    .dataframe tbody tr th {\n",
       "        vertical-align: top;\n",
       "    }\n",
       "\n",
       "    .dataframe thead th {\n",
       "        text-align: right;\n",
       "    }\n",
       "</style>\n",
       "<table border=\"1\" class=\"dataframe\">\n",
       "  <thead>\n",
       "    <tr style=\"text-align: right;\">\n",
       "      <th></th>\n",
       "      <th>date</th>\n",
       "      <th>pmer</th>\n",
       "      <th>ff</th>\n",
       "      <th>t</th>\n",
       "      <th>u</th>\n",
       "      <th>vv</th>\n",
       "      <th>pres</th>\n",
       "    </tr>\n",
       "  </thead>\n",
       "  <tbody>\n",
       "    <tr>\n",
       "      <th>0</th>\n",
       "      <td>2021-01-01 00:00:00</td>\n",
       "      <td>100810</td>\n",
       "      <td>1.8</td>\n",
       "      <td>272.75</td>\n",
       "      <td>96</td>\n",
       "      <td>990</td>\n",
       "      <td>99680</td>\n",
       "    </tr>\n",
       "    <tr>\n",
       "      <th>1</th>\n",
       "      <td>2021-01-01 03:00:00</td>\n",
       "      <td>100920</td>\n",
       "      <td>1.7</td>\n",
       "      <td>271.25</td>\n",
       "      <td>98</td>\n",
       "      <td>210</td>\n",
       "      <td>99790</td>\n",
       "    </tr>\n",
       "    <tr>\n",
       "      <th>2</th>\n",
       "      <td>2021-01-01 06:00:00</td>\n",
       "      <td>100950</td>\n",
       "      <td>2.6</td>\n",
       "      <td>271.95</td>\n",
       "      <td>98</td>\n",
       "      <td>3660</td>\n",
       "      <td>99820</td>\n",
       "    </tr>\n",
       "    <tr>\n",
       "      <th>3</th>\n",
       "      <td>2021-01-01 09:00:00</td>\n",
       "      <td>101100</td>\n",
       "      <td>1.7</td>\n",
       "      <td>272.45</td>\n",
       "      <td>97</td>\n",
       "      <td>3500</td>\n",
       "      <td>99970</td>\n",
       "    </tr>\n",
       "    <tr>\n",
       "      <th>4</th>\n",
       "      <td>2021-01-01 12:00:00</td>\n",
       "      <td>101110</td>\n",
       "      <td>1.0</td>\n",
       "      <td>276.95</td>\n",
       "      <td>82</td>\n",
       "      <td>8000</td>\n",
       "      <td>100000</td>\n",
       "    </tr>\n",
       "    <tr>\n",
       "      <th>...</th>\n",
       "      <td>...</td>\n",
       "      <td>...</td>\n",
       "      <td>...</td>\n",
       "      <td>...</td>\n",
       "      <td>...</td>\n",
       "      <td>...</td>\n",
       "      <td>...</td>\n",
       "    </tr>\n",
       "    <tr>\n",
       "      <th>3317</th>\n",
       "      <td>2020-09-30 09:00:00</td>\n",
       "      <td>101540</td>\n",
       "      <td>4.4</td>\n",
       "      <td>289.95</td>\n",
       "      <td>82</td>\n",
       "      <td>18000</td>\n",
       "      <td>100480</td>\n",
       "    </tr>\n",
       "    <tr>\n",
       "      <th>3318</th>\n",
       "      <td>2020-09-30 12:00:00</td>\n",
       "      <td>101320</td>\n",
       "      <td>4.9</td>\n",
       "      <td>292.05</td>\n",
       "      <td>66</td>\n",
       "      <td>25000</td>\n",
       "      <td>100270</td>\n",
       "    </tr>\n",
       "    <tr>\n",
       "      <th>3319</th>\n",
       "      <td>2020-09-30 15:00:00</td>\n",
       "      <td>101140</td>\n",
       "      <td>4.1</td>\n",
       "      <td>291.55</td>\n",
       "      <td>72</td>\n",
       "      <td>25000</td>\n",
       "      <td>100090</td>\n",
       "    </tr>\n",
       "    <tr>\n",
       "      <th>3320</th>\n",
       "      <td>2020-09-30 18:00:00</td>\n",
       "      <td>101020</td>\n",
       "      <td>2.7</td>\n",
       "      <td>290.15</td>\n",
       "      <td>73</td>\n",
       "      <td>40820</td>\n",
       "      <td>99960</td>\n",
       "    </tr>\n",
       "    <tr>\n",
       "      <th>3321</th>\n",
       "      <td>2020-09-30 21:00:00</td>\n",
       "      <td>100880</td>\n",
       "      <td>2.4</td>\n",
       "      <td>288.35</td>\n",
       "      <td>85</td>\n",
       "      <td>25250</td>\n",
       "      <td>99820</td>\n",
       "    </tr>\n",
       "  </tbody>\n",
       "</table>\n",
       "<p>3322 rows × 7 columns</p>\n",
       "</div>"
      ],
      "text/plain": [
       "                    date    pmer   ff       t   u     vv    pres\n",
       "0    2021-01-01 00:00:00  100810  1.8  272.75  96    990   99680\n",
       "1    2021-01-01 03:00:00  100920  1.7  271.25  98    210   99790\n",
       "2    2021-01-01 06:00:00  100950  2.6  271.95  98   3660   99820\n",
       "3    2021-01-01 09:00:00  101100  1.7  272.45  97   3500   99970\n",
       "4    2021-01-01 12:00:00  101110  1.0  276.95  82   8000  100000\n",
       "...                  ...     ...  ...     ...  ..    ...     ...\n",
       "3317 2020-09-30 09:00:00  101540  4.4  289.95  82  18000  100480\n",
       "3318 2020-09-30 12:00:00  101320  4.9  292.05  66  25000  100270\n",
       "3319 2020-09-30 15:00:00  101140  4.1  291.55  72  25000  100090\n",
       "3320 2020-09-30 18:00:00  101020  2.7  290.15  73  40820   99960\n",
       "3321 2020-09-30 21:00:00  100880  2.4  288.35  85  25250   99820\n",
       "\n",
       "[3322 rows x 7 columns]"
      ]
     },
     "execution_count": 21,
     "metadata": {},
     "output_type": "execute_result"
    }
   ],
   "source": [
    "data_weather"
   ]
  },
  {
   "cell_type": "markdown",
   "id": "c5572bd7",
   "metadata": {},
   "source": [
    "# Left merged"
   ]
  },
  {
   "cell_type": "code",
   "execution_count": 22,
   "id": "3f067337",
   "metadata": {},
   "outputs": [],
   "source": [
    "merged_train = pd.merge(data, data_weather, how='left')"
   ]
  },
  {
   "cell_type": "code",
   "execution_count": 23,
   "id": "a02f5c6f",
   "metadata": {},
   "outputs": [
    {
     "data": {
      "text/html": [
       "<div>\n",
       "<style scoped>\n",
       "    .dataframe tbody tr th:only-of-type {\n",
       "        vertical-align: middle;\n",
       "    }\n",
       "\n",
       "    .dataframe tbody tr th {\n",
       "        vertical-align: top;\n",
       "    }\n",
       "\n",
       "    .dataframe thead th {\n",
       "        text-align: right;\n",
       "    }\n",
       "</style>\n",
       "<table border=\"1\" class=\"dataframe\">\n",
       "  <thead>\n",
       "    <tr style=\"text-align: right;\">\n",
       "      <th></th>\n",
       "      <th>counter_id</th>\n",
       "      <th>counter_name</th>\n",
       "      <th>site_id</th>\n",
       "      <th>site_name</th>\n",
       "      <th>bike_count</th>\n",
       "      <th>date</th>\n",
       "      <th>counter_installation_date</th>\n",
       "      <th>coordinates</th>\n",
       "      <th>counter_technical_id</th>\n",
       "      <th>latitude</th>\n",
       "      <th>longitude</th>\n",
       "      <th>log_bike_count</th>\n",
       "      <th>pmer</th>\n",
       "      <th>ff</th>\n",
       "      <th>t</th>\n",
       "      <th>u</th>\n",
       "      <th>vv</th>\n",
       "      <th>pres</th>\n",
       "    </tr>\n",
       "  </thead>\n",
       "  <tbody>\n",
       "    <tr>\n",
       "      <th>0</th>\n",
       "      <td>100007049-102007049</td>\n",
       "      <td>28 boulevard Diderot E-O</td>\n",
       "      <td>100007049</td>\n",
       "      <td>28 boulevard Diderot</td>\n",
       "      <td>0.0</td>\n",
       "      <td>2020-09-01 02:00:00</td>\n",
       "      <td>2013-01-18</td>\n",
       "      <td>48.846028,2.375429</td>\n",
       "      <td>Y2H15027244</td>\n",
       "      <td>48.846028</td>\n",
       "      <td>2.375429</td>\n",
       "      <td>0.000000</td>\n",
       "      <td>0.0</td>\n",
       "      <td>0.0</td>\n",
       "      <td>0.00</td>\n",
       "      <td>0.0</td>\n",
       "      <td>0.0</td>\n",
       "      <td>0.0</td>\n",
       "    </tr>\n",
       "    <tr>\n",
       "      <th>1</th>\n",
       "      <td>100007049-102007049</td>\n",
       "      <td>28 boulevard Diderot E-O</td>\n",
       "      <td>100007049</td>\n",
       "      <td>28 boulevard Diderot</td>\n",
       "      <td>1.0</td>\n",
       "      <td>2020-09-01 03:00:00</td>\n",
       "      <td>2013-01-18</td>\n",
       "      <td>48.846028,2.375429</td>\n",
       "      <td>Y2H15027244</td>\n",
       "      <td>48.846028</td>\n",
       "      <td>2.375429</td>\n",
       "      <td>0.693147</td>\n",
       "      <td>101990.0</td>\n",
       "      <td>1.1</td>\n",
       "      <td>283.95</td>\n",
       "      <td>88.0</td>\n",
       "      <td>25000.0</td>\n",
       "      <td>100900.0</td>\n",
       "    </tr>\n",
       "    <tr>\n",
       "      <th>2</th>\n",
       "      <td>100007049-102007049</td>\n",
       "      <td>28 boulevard Diderot E-O</td>\n",
       "      <td>100007049</td>\n",
       "      <td>28 boulevard Diderot</td>\n",
       "      <td>0.0</td>\n",
       "      <td>2020-09-01 04:00:00</td>\n",
       "      <td>2013-01-18</td>\n",
       "      <td>48.846028,2.375429</td>\n",
       "      <td>Y2H15027244</td>\n",
       "      <td>48.846028</td>\n",
       "      <td>2.375429</td>\n",
       "      <td>0.000000</td>\n",
       "      <td>0.0</td>\n",
       "      <td>0.0</td>\n",
       "      <td>0.00</td>\n",
       "      <td>0.0</td>\n",
       "      <td>0.0</td>\n",
       "      <td>0.0</td>\n",
       "    </tr>\n",
       "    <tr>\n",
       "      <th>3</th>\n",
       "      <td>100007049-102007049</td>\n",
       "      <td>28 boulevard Diderot E-O</td>\n",
       "      <td>100007049</td>\n",
       "      <td>28 boulevard Diderot</td>\n",
       "      <td>4.0</td>\n",
       "      <td>2020-09-01 15:00:00</td>\n",
       "      <td>2013-01-18</td>\n",
       "      <td>48.846028,2.375429</td>\n",
       "      <td>Y2H15027244</td>\n",
       "      <td>48.846028</td>\n",
       "      <td>2.375429</td>\n",
       "      <td>1.609438</td>\n",
       "      <td>101740.0</td>\n",
       "      <td>4.0</td>\n",
       "      <td>293.65</td>\n",
       "      <td>41.0</td>\n",
       "      <td>30000.0</td>\n",
       "      <td>100690.0</td>\n",
       "    </tr>\n",
       "    <tr>\n",
       "      <th>4</th>\n",
       "      <td>100007049-102007049</td>\n",
       "      <td>28 boulevard Diderot E-O</td>\n",
       "      <td>100007049</td>\n",
       "      <td>28 boulevard Diderot</td>\n",
       "      <td>9.0</td>\n",
       "      <td>2020-09-01 18:00:00</td>\n",
       "      <td>2013-01-18</td>\n",
       "      <td>48.846028,2.375429</td>\n",
       "      <td>Y2H15027244</td>\n",
       "      <td>48.846028</td>\n",
       "      <td>2.375429</td>\n",
       "      <td>2.302585</td>\n",
       "      <td>101760.0</td>\n",
       "      <td>3.0</td>\n",
       "      <td>292.15</td>\n",
       "      <td>47.0</td>\n",
       "      <td>30000.0</td>\n",
       "      <td>100700.0</td>\n",
       "    </tr>\n",
       "    <tr>\n",
       "      <th>...</th>\n",
       "      <td>...</td>\n",
       "      <td>...</td>\n",
       "      <td>...</td>\n",
       "      <td>...</td>\n",
       "      <td>...</td>\n",
       "      <td>...</td>\n",
       "      <td>...</td>\n",
       "      <td>...</td>\n",
       "      <td>...</td>\n",
       "      <td>...</td>\n",
       "      <td>...</td>\n",
       "      <td>...</td>\n",
       "      <td>...</td>\n",
       "      <td>...</td>\n",
       "      <td>...</td>\n",
       "      <td>...</td>\n",
       "      <td>...</td>\n",
       "      <td>...</td>\n",
       "    </tr>\n",
       "    <tr>\n",
       "      <th>455212</th>\n",
       "      <td>300014702-353245971</td>\n",
       "      <td>254 rue de Vaugirard SO-NE</td>\n",
       "      <td>300014702</td>\n",
       "      <td>254 rue de Vaugirard</td>\n",
       "      <td>51.0</td>\n",
       "      <td>2021-08-08 18:00:00</td>\n",
       "      <td>2020-11-29</td>\n",
       "      <td>48.83977,2.30198</td>\n",
       "      <td>Y2H20114504</td>\n",
       "      <td>48.839770</td>\n",
       "      <td>2.301980</td>\n",
       "      <td>3.951244</td>\n",
       "      <td>101440.0</td>\n",
       "      <td>4.1</td>\n",
       "      <td>293.05</td>\n",
       "      <td>53.0</td>\n",
       "      <td>25000.0</td>\n",
       "      <td>100390.0</td>\n",
       "    </tr>\n",
       "    <tr>\n",
       "      <th>455213</th>\n",
       "      <td>300014702-353245971</td>\n",
       "      <td>254 rue de Vaugirard SO-NE</td>\n",
       "      <td>300014702</td>\n",
       "      <td>254 rue de Vaugirard</td>\n",
       "      <td>1.0</td>\n",
       "      <td>2021-08-09 02:00:00</td>\n",
       "      <td>2020-11-29</td>\n",
       "      <td>48.83977,2.30198</td>\n",
       "      <td>Y2H20114504</td>\n",
       "      <td>48.839770</td>\n",
       "      <td>2.301980</td>\n",
       "      <td>0.693147</td>\n",
       "      <td>0.0</td>\n",
       "      <td>0.0</td>\n",
       "      <td>0.00</td>\n",
       "      <td>0.0</td>\n",
       "      <td>0.0</td>\n",
       "      <td>0.0</td>\n",
       "    </tr>\n",
       "    <tr>\n",
       "      <th>455214</th>\n",
       "      <td>300014702-353245971</td>\n",
       "      <td>254 rue de Vaugirard SO-NE</td>\n",
       "      <td>300014702</td>\n",
       "      <td>254 rue de Vaugirard</td>\n",
       "      <td>61.0</td>\n",
       "      <td>2021-08-09 08:00:00</td>\n",
       "      <td>2020-11-29</td>\n",
       "      <td>48.83977,2.30198</td>\n",
       "      <td>Y2H20114504</td>\n",
       "      <td>48.839770</td>\n",
       "      <td>2.301980</td>\n",
       "      <td>4.127134</td>\n",
       "      <td>0.0</td>\n",
       "      <td>0.0</td>\n",
       "      <td>0.00</td>\n",
       "      <td>0.0</td>\n",
       "      <td>0.0</td>\n",
       "      <td>0.0</td>\n",
       "    </tr>\n",
       "    <tr>\n",
       "      <th>455215</th>\n",
       "      <td>300014702-353245971</td>\n",
       "      <td>254 rue de Vaugirard SO-NE</td>\n",
       "      <td>300014702</td>\n",
       "      <td>254 rue de Vaugirard</td>\n",
       "      <td>44.0</td>\n",
       "      <td>2021-08-09 10:00:00</td>\n",
       "      <td>2020-11-29</td>\n",
       "      <td>48.83977,2.30198</td>\n",
       "      <td>Y2H20114504</td>\n",
       "      <td>48.839770</td>\n",
       "      <td>2.301980</td>\n",
       "      <td>3.806662</td>\n",
       "      <td>0.0</td>\n",
       "      <td>0.0</td>\n",
       "      <td>0.00</td>\n",
       "      <td>0.0</td>\n",
       "      <td>0.0</td>\n",
       "      <td>0.0</td>\n",
       "    </tr>\n",
       "    <tr>\n",
       "      <th>455216</th>\n",
       "      <td>300014702-353245971</td>\n",
       "      <td>254 rue de Vaugirard SO-NE</td>\n",
       "      <td>300014702</td>\n",
       "      <td>254 rue de Vaugirard</td>\n",
       "      <td>83.0</td>\n",
       "      <td>2021-08-09 17:00:00</td>\n",
       "      <td>2020-11-29</td>\n",
       "      <td>48.83977,2.30198</td>\n",
       "      <td>Y2H20114504</td>\n",
       "      <td>48.839770</td>\n",
       "      <td>2.301980</td>\n",
       "      <td>4.430817</td>\n",
       "      <td>0.0</td>\n",
       "      <td>0.0</td>\n",
       "      <td>0.00</td>\n",
       "      <td>0.0</td>\n",
       "      <td>0.0</td>\n",
       "      <td>0.0</td>\n",
       "    </tr>\n",
       "  </tbody>\n",
       "</table>\n",
       "<p>455217 rows × 18 columns</p>\n",
       "</div>"
      ],
      "text/plain": [
       "                 counter_id                counter_name    site_id  \\\n",
       "0       100007049-102007049    28 boulevard Diderot E-O  100007049   \n",
       "1       100007049-102007049    28 boulevard Diderot E-O  100007049   \n",
       "2       100007049-102007049    28 boulevard Diderot E-O  100007049   \n",
       "3       100007049-102007049    28 boulevard Diderot E-O  100007049   \n",
       "4       100007049-102007049    28 boulevard Diderot E-O  100007049   \n",
       "...                     ...                         ...        ...   \n",
       "455212  300014702-353245971  254 rue de Vaugirard SO-NE  300014702   \n",
       "455213  300014702-353245971  254 rue de Vaugirard SO-NE  300014702   \n",
       "455214  300014702-353245971  254 rue de Vaugirard SO-NE  300014702   \n",
       "455215  300014702-353245971  254 rue de Vaugirard SO-NE  300014702   \n",
       "455216  300014702-353245971  254 rue de Vaugirard SO-NE  300014702   \n",
       "\n",
       "                   site_name  bike_count                date  \\\n",
       "0       28 boulevard Diderot         0.0 2020-09-01 02:00:00   \n",
       "1       28 boulevard Diderot         1.0 2020-09-01 03:00:00   \n",
       "2       28 boulevard Diderot         0.0 2020-09-01 04:00:00   \n",
       "3       28 boulevard Diderot         4.0 2020-09-01 15:00:00   \n",
       "4       28 boulevard Diderot         9.0 2020-09-01 18:00:00   \n",
       "...                      ...         ...                 ...   \n",
       "455212  254 rue de Vaugirard        51.0 2021-08-08 18:00:00   \n",
       "455213  254 rue de Vaugirard         1.0 2021-08-09 02:00:00   \n",
       "455214  254 rue de Vaugirard        61.0 2021-08-09 08:00:00   \n",
       "455215  254 rue de Vaugirard        44.0 2021-08-09 10:00:00   \n",
       "455216  254 rue de Vaugirard        83.0 2021-08-09 17:00:00   \n",
       "\n",
       "       counter_installation_date         coordinates counter_technical_id  \\\n",
       "0                     2013-01-18  48.846028,2.375429          Y2H15027244   \n",
       "1                     2013-01-18  48.846028,2.375429          Y2H15027244   \n",
       "2                     2013-01-18  48.846028,2.375429          Y2H15027244   \n",
       "3                     2013-01-18  48.846028,2.375429          Y2H15027244   \n",
       "4                     2013-01-18  48.846028,2.375429          Y2H15027244   \n",
       "...                          ...                 ...                  ...   \n",
       "455212                2020-11-29    48.83977,2.30198          Y2H20114504   \n",
       "455213                2020-11-29    48.83977,2.30198          Y2H20114504   \n",
       "455214                2020-11-29    48.83977,2.30198          Y2H20114504   \n",
       "455215                2020-11-29    48.83977,2.30198          Y2H20114504   \n",
       "455216                2020-11-29    48.83977,2.30198          Y2H20114504   \n",
       "\n",
       "         latitude  longitude  log_bike_count      pmer   ff       t     u  \\\n",
       "0       48.846028   2.375429        0.000000       0.0  0.0    0.00   0.0   \n",
       "1       48.846028   2.375429        0.693147  101990.0  1.1  283.95  88.0   \n",
       "2       48.846028   2.375429        0.000000       0.0  0.0    0.00   0.0   \n",
       "3       48.846028   2.375429        1.609438  101740.0  4.0  293.65  41.0   \n",
       "4       48.846028   2.375429        2.302585  101760.0  3.0  292.15  47.0   \n",
       "...           ...        ...             ...       ...  ...     ...   ...   \n",
       "455212  48.839770   2.301980        3.951244  101440.0  4.1  293.05  53.0   \n",
       "455213  48.839770   2.301980        0.693147       0.0  0.0    0.00   0.0   \n",
       "455214  48.839770   2.301980        4.127134       0.0  0.0    0.00   0.0   \n",
       "455215  48.839770   2.301980        3.806662       0.0  0.0    0.00   0.0   \n",
       "455216  48.839770   2.301980        4.430817       0.0  0.0    0.00   0.0   \n",
       "\n",
       "             vv      pres  \n",
       "0           0.0       0.0  \n",
       "1       25000.0  100900.0  \n",
       "2           0.0       0.0  \n",
       "3       30000.0  100690.0  \n",
       "4       30000.0  100700.0  \n",
       "...         ...       ...  \n",
       "455212  25000.0  100390.0  \n",
       "455213      0.0       0.0  \n",
       "455214      0.0       0.0  \n",
       "455215      0.0       0.0  \n",
       "455216      0.0       0.0  \n",
       "\n",
       "[455217 rows x 18 columns]"
      ]
     },
     "execution_count": 23,
     "metadata": {},
     "output_type": "execute_result"
    }
   ],
   "source": [
    "merged_train = merged_train.replace(np.nan, 0)\n",
    "merged_train"
   ]
  },
  {
   "cell_type": "code",
   "execution_count": 24,
   "id": "d10f48fe",
   "metadata": {},
   "outputs": [
    {
     "ename": "NameError",
     "evalue": "name 'left_merged' is not defined",
     "output_type": "error",
     "traceback": [
      "\u001b[1;31m---------------------------------------------------------------------------\u001b[0m",
      "\u001b[1;31mNameError\u001b[0m                                 Traceback (most recent call last)",
      "\u001b[1;32m~\\AppData\\Local\\Temp\\ipykernel_27292\\2866120853.py\u001b[0m in \u001b[0;36m<module>\u001b[1;34m\u001b[0m\n\u001b[1;32m----> 1\u001b[1;33m \u001b[0mleft_merged\u001b[0m\u001b[1;33m.\u001b[0m\u001b[0minfo\u001b[0m\u001b[1;33m(\u001b[0m\u001b[1;33m)\u001b[0m\u001b[1;33m\u001b[0m\u001b[1;33m\u001b[0m\u001b[0m\n\u001b[0m",
      "\u001b[1;31mNameError\u001b[0m: name 'left_merged' is not defined"
     ]
    }
   ],
   "source": [
    "left_merged.info()"
   ]
  },
  {
   "cell_type": "markdown",
   "id": "c51fc59f-e77f-4c82-bfe8-35a93ef2db09",
   "metadata": {},
   "source": [
    "## Feature extraction\n",
    "\n",
    "To account for the temporal aspects of the data, we cannot input the `date` field directly into the model. Instead we extract the features on different time-scales from the `date` field, "
   ]
  },
  {
   "cell_type": "code",
   "execution_count": null,
   "id": "d13d9bfd-7852-4206-b16f-e09e7c83d6d0",
   "metadata": {},
   "outputs": [],
   "source": [
    "def _encode_dates(X):\n",
    "    X = X.copy()  # modify a copy of X\n",
    "    # Encode the date information from the DateOfDeparture columns\n",
    "    X.loc[:, \"year\"] = X[\"date\"].dt.year\n",
    "    X.loc[:, \"month\"] = X[\"date\"].dt.month\n",
    "    X.loc[:, \"day\"] = X[\"date\"].dt.day\n",
    "    X.loc[:, \"weekday\"] = X[\"date\"].dt.weekday\n",
    "    X.loc[:, \"hour\"] = X[\"date\"].dt.hour\n",
    "\n",
    "    # Finally we can drop the original columns from the dataframe\n",
    "    return X.drop(columns=[\"date\"])"
   ]
  },
  {
   "cell_type": "code",
   "execution_count": null,
   "id": "df5a9c16-69fb-4d05-aa77-5ef1bc28fe78",
   "metadata": {},
   "outputs": [],
   "source": [
    "data[\"date\"].head()"
   ]
  },
  {
   "cell_type": "code",
   "execution_count": null,
   "id": "8dd6cfea-6fc8-4707-a0c9-404b62a7833d",
   "metadata": {},
   "outputs": [],
   "source": [
    "_encode_dates(data[[\"date\"]].head())"
   ]
  },
  {
   "cell_type": "markdown",
   "id": "a4eb15a9-421b-4f2a-a913-26df51449092",
   "metadata": {},
   "source": [
    "To use this function with scikit-learn estimators we wrap it with [FunctionTransformer](https://scikit-learn.org/stable/modules/generated/sklearn.preprocessing.FunctionTransformer.html),"
   ]
  },
  {
   "cell_type": "code",
   "execution_count": null,
   "id": "c4676f76-1bdb-4fdd-94b3-061a9a7c691e",
   "metadata": {},
   "outputs": [],
   "source": [
    "from sklearn.preprocessing import FunctionTransformer\n",
    "\n",
    "date_encoder = FunctionTransformer(_encode_dates, validate=False)\n",
    "date_encoder.fit_transform(data[[\"date\"]]).head()"
   ]
  },
  {
   "cell_type": "markdown",
   "id": "c6c85678-2403-4a31-90ae-ac68f9565859",
   "metadata": {},
   "source": [
    "Since it is unlikely that, for instance, that `hour` is linearly correlated with the target variable, we would need to additionally encode categorical features for linear models. This is classically done with [OneHotEncoder](https://scikit-learn.org/stable/modules/generated/sklearn.preprocessing.OneHotEncoder.html), though other encoding strategies exist."
   ]
  },
  {
   "cell_type": "code",
   "execution_count": null,
   "id": "46e5f3cd-e177-4b73-8058-1472a46bb34b",
   "metadata": {},
   "outputs": [],
   "source": [
    "from sklearn.preprocessing import OneHotEncoder\n",
    "\n",
    "enc = OneHotEncoder(sparse=False)\n",
    "\n",
    "enc.fit_transform(_encode_dates(data[[\"date\"]])[[\"hour\"]].head())"
   ]
  },
  {
   "cell_type": "markdown",
   "id": "c5feb47c-c05f-442b-8009-4b7272bdf84f",
   "metadata": {},
   "source": [
    "## Linear model"
   ]
  },
  {
   "cell_type": "markdown",
   "id": "e8fb001e-3446-492c-b887-6ed485448495",
   "metadata": {},
   "source": [
    "Let's now construct our first linear model with [Ridge](https://scikit-learn.org/stable/modules/generated/sklearn.linear_model.Ridge.html). We use a few helper functions defined in `problem.py` of the starting kit to load the public train and test data:"
   ]
  },
  {
   "cell_type": "code",
   "execution_count": null,
   "id": "cfe69c2b",
   "metadata": {},
   "outputs": [],
   "source": [
    "merged_test = pd.merge(data_test, data_weather, how='left')\n",
    "merged_test = merged_test.replace(np.nan, 0)"
   ]
  },
  {
   "cell_type": "code",
   "execution_count": null,
   "id": "40fe8645",
   "metadata": {},
   "outputs": [],
   "source": [
    "target_name = 'log_bike_count'\n",
    "X_train = merged_train.drop(columns=[target_name])\n",
    "X_test = merged_test.drop(columns=[target_name])\n",
    "y_train = merged_train.loc[:,target_name]\n",
    "y_test = merged_test.loc[:,target_name]"
   ]
  },
  {
   "cell_type": "code",
   "execution_count": null,
   "id": "6e579d41-9f7a-4b50-b07d-31866168a67e",
   "metadata": {},
   "outputs": [],
   "source": [
    "X_train.head(2)"
   ]
  },
  {
   "cell_type": "markdown",
   "id": "d3ea2f21-1d7b-48d0-87ce-e55440a99360",
   "metadata": {},
   "source": [
    "and"
   ]
  },
  {
   "cell_type": "markdown",
   "id": "937ebcf8-8769-46b4-93f8-d54a30194f87",
   "metadata": {},
   "source": [
    "Where `y` contains the `log_bike_count` variable. \n",
    "\n",
    "The test set is in the future as compared to the train set,"
   ]
  },
  {
   "cell_type": "code",
   "execution_count": null,
   "id": "252bf7ea-2def-46e1-b4fd-583c0e2c3f8b",
   "metadata": {},
   "outputs": [],
   "source": [
    "print(\n",
    "    f'Train: n_samples={X_train.shape[0]},  {X_train[\"date\"].min()} to {X_train[\"date\"].max()}'\n",
    ")\n",
    "print(\n",
    "    f'Test: n_samples={X_test.shape[0]},  {X_test[\"date\"].min()} to {X_test[\"date\"].max()}'\n",
    ")"
   ]
  },
  {
   "cell_type": "code",
   "execution_count": null,
   "id": "b3d1c151-da75-4dae-bbe6-07bf06e2b1c2",
   "metadata": {},
   "outputs": [],
   "source": [
    "_encode_dates(X_train[[\"date\"]]).columns.tolist()"
   ]
  },
  {
   "cell_type": "markdown",
   "id": "772e16fe-50fd-4229-af39-a6ebefad0a1e",
   "metadata": {},
   "source": [
    "We then evaluate this model with the RMSE metric,"
   ]
  },
  {
   "cell_type": "code",
   "execution_count": null,
   "id": "a1bd0813",
   "metadata": {},
   "outputs": [],
   "source": [
    "data_test = pd.read_parquet(Path(\"data\") / \"test.parquet\")"
   ]
  },
  {
   "cell_type": "code",
   "execution_count": null,
   "id": "38fa8822",
   "metadata": {},
   "outputs": [],
   "source": [
    "merged_test = pd.merge(data_test, data_weather, how='left')"
   ]
  },
  {
   "cell_type": "code",
   "execution_count": null,
   "id": "e5cc2e87",
   "metadata": {},
   "outputs": [],
   "source": [
    "y_train = merged_train.loc[:,'log_bike_count']"
   ]
  },
  {
   "cell_type": "code",
   "execution_count": null,
   "id": "76a2ec90",
   "metadata": {},
   "outputs": [],
   "source": [
    "y_test = merged_test.loc[:,'log_bike_count']"
   ]
  },
  {
   "cell_type": "markdown",
   "id": "ed3415e2",
   "metadata": {},
   "source": [
    "## Linear for now"
   ]
  },
  {
   "cell_type": "code",
   "execution_count": null,
   "id": "c601f721",
   "metadata": {
    "scrolled": true
   },
   "outputs": [],
   "source": [
    "from sklearn.compose import ColumnTransformer\n",
    "from sklearn.linear_model import Ridge\n",
    "from sklearn.pipeline import make_pipeline\n",
    "\n",
    "date_encoder = FunctionTransformer(_encode_dates)\n",
    "date_cols = _encode_dates(X_train[[\"date\"]]).columns.tolist()\n",
    "\n",
    "categorical_encoder = OneHotEncoder(handle_unknown=\"ignore\")\n",
    "categorical_cols = [\"counter_name\", \"site_name\"]\n",
    "scaling_columns = ['pmer','ff','t','u','vv','pres']\n",
    "\n",
    "preprocessor = ColumnTransformer(\n",
    "    [\n",
    "        (\"date\", OneHotEncoder(handle_unknown=\"ignore\"), date_cols),\n",
    "        (\"cat\", categorical_encoder, categorical_cols),\n",
    "        ('standard-scaler', StandardScaler(), scaling_columns)\n",
    "    ]\n",
    ")\n",
    "\n",
    "regressor = Ridge()\n",
    "\n",
    "pipe = make_pipeline(date_encoder, preprocessor, regressor)\n",
    "pipe.fit(X_train, y_train)"
   ]
  },
  {
   "cell_type": "code",
   "execution_count": null,
   "id": "f1517acc",
   "metadata": {},
   "outputs": [],
   "source": [
    "from sklearn.metrics import mean_squared_error\n",
    "\n",
    "print(\n",
    "    f\"Train set, RMSE={mean_squared_error(y_train, pipe.predict(X_train), squared=False):.2f}\"\n",
    ")\n",
    "print(\n",
    "    f\"Test set, RMSE={mean_squared_error(y_test, pipe.predict(X_test), squared=False):.2f}\"\n",
    ")"
   ]
  },
  {
   "cell_type": "markdown",
   "id": "c753fe34-a94b-4d18-9497-e516c1ccc4e2",
   "metadata": {},
   "source": [
    "## Let's visualize the predictions for one of the stations"
   ]
  },
  {
   "cell_type": "code",
   "execution_count": null,
   "id": "3a2509f6-7cba-4671-8363-d4abda33ef30",
   "metadata": {},
   "outputs": [],
   "source": [
    "mask = (\n",
    "    (X_test[\"counter_name\"] == \"Totem 73 boulevard de Sébastopol S-N\")\n",
    "    & (X_test[\"date\"] > pd.to_datetime(\"2021/09/01\"))\n",
    "    & (X_test[\"date\"] < pd.to_datetime(\"2021/09/08\"))\n",
    ")\n",
    "\n",
    "df_viz = X_test.loc[mask].copy()\n",
    "df_viz[\"bike_count\"] = np.exp(y_test[mask.values]) - 1\n",
    "df_viz[\"bike_count (predicted)\"] = np.exp(pipe.predict(X_test[mask])) - 1"
   ]
  },
  {
   "cell_type": "code",
   "execution_count": null,
   "id": "3fab3196-90bd-4918-a509-01cd38b1adfa",
   "metadata": {},
   "outputs": [],
   "source": [
    "fig, ax = plt.subplots(figsize=(12, 4))\n",
    "\n",
    "df_viz.plot(x=\"date\", y=\"bike_count\", ax=ax)\n",
    "df_viz.plot(x=\"date\", y=\"bike_count (predicted)\", ax=ax, ls=\"--\")\n",
    "ax.set_title(\"Predictions with Ridge\")\n",
    "ax.set_ylabel(\"bike_count\")"
   ]
  },
  {
   "cell_type": "markdown",
   "id": "187d342e-ba15-4741-a457-d4ae31d07c9a",
   "metadata": {},
   "source": [
    "So we start to see the daily trend, and some of the week day differences are accounted for, however we still miss the details and the spikes in the evening are under-estimated.\n",
    "\n",
    "A useful way to visualize the error is to plot `y_pred` as a function of `y_true`,"
   ]
  },
  {
   "cell_type": "code",
   "execution_count": null,
   "id": "0b45ca21",
   "metadata": {},
   "outputs": [],
   "source": [
    "pipe.predict(X_test).flatten()"
   ]
  },
  {
   "cell_type": "code",
   "execution_count": null,
   "id": "523cf811",
   "metadata": {},
   "outputs": [],
   "source": [
    "y_test.shape"
   ]
  },
  {
   "cell_type": "code",
   "execution_count": null,
   "id": "9ef6c8cd-56ce-4294-8d98-da217262aa22",
   "metadata": {},
   "outputs": [],
   "source": [
    "fig, ax = plt.subplots()\n",
    "\n",
    "df_viz = pd.DataFrame({\"y_true\": y_test, \"y_pred\": pipe.predict(X_test).flatten()}).sample(\n",
    "    10000, random_state=0\n",
    ")\n",
    "\n",
    "df_viz.plot.scatter(x=\"y_true\", y=\"y_pred\", s=8, alpha=0.1, ax=ax)"
   ]
  },
  {
   "cell_type": "markdown",
   "id": "e3d82e36-4033-4d96-a501-d2f56578c894",
   "metadata": {},
   "source": [
    "It is recommended to use cross-validation for hyper-parameter tuning with [GridSearchCV](https://scikit-learn.org/stable/modules/generated/sklearn.model_selection.GridSearchCV.html) or more reliable model evaluation with [cross_val_score](https://scikit-learn.org/stable/modules/generated/sklearn.model_selection.cross_val_score.html#sklearn.model_selection.cross_val_score). In this case, because we want the test data to always be in the future as compared to the train data, we can use [TimeSeriesSplit](https://scikit-learn.org/stable/modules/generated/sklearn.model_selection.TimeSeriesSplit.html),\n",
    "\n",
    "<img src=\"https://i.stack.imgur.com/Q37Bn.png\" />\n",
    "\n",
    "The disadvantage, is that we can either have the training set size be different for each fold which is not ideal for hyper-parameter tuning (current figure), or have constant sized small training set which is also not ideal given the data periodicity. This explains that generally we will have worse cross-validation scores than test scores, "
   ]
  },
  {
   "cell_type": "code",
   "execution_count": null,
   "id": "4781077b-9da4-4db4-af9a-c130cb9b2182",
   "metadata": {},
   "outputs": [],
   "source": [
    "from sklearn.model_selection import TimeSeriesSplit, cross_val_score\n",
    "\n",
    "cv = TimeSeriesSplit(n_splits=6)\n",
    "\n",
    "# When using a scorer in scikit-learn it always needs to be better when smaller, hence the minus sign.\n",
    "scores = cross_val_score(\n",
    "    pipe, X_train, y_train, cv=cv, scoring=\"neg_root_mean_squared_error\"\n",
    ")\n",
    "print(\"RMSE: \", scores)\n",
    "print(f\"RMSE (all folds): {-scores.mean():.3} ± {(-scores).std():.3}\")"
   ]
  },
  {
   "cell_type": "code",
   "execution_count": null,
   "id": "f8efe9c2",
   "metadata": {},
   "outputs": [],
   "source": []
  },
  {
   "cell_type": "code",
   "execution_count": null,
   "id": "aaa4003f",
   "metadata": {},
   "outputs": [],
   "source": []
  },
  {
   "cell_type": "code",
   "execution_count": null,
   "id": "a9f18667",
   "metadata": {},
   "outputs": [],
   "source": []
  }
 ],
 "metadata": {
  "kernelspec": {
   "display_name": "Python 3 (ipykernel)",
   "language": "python",
   "name": "python3"
  },
  "language_info": {
   "codemirror_mode": {
    "name": "ipython",
    "version": 3
   },
   "file_extension": ".py",
   "mimetype": "text/x-python",
   "name": "python",
   "nbconvert_exporter": "python",
   "pygments_lexer": "ipython3",
   "version": "3.9.13"
  }
 },
 "nbformat": 4,
 "nbformat_minor": 5
}
