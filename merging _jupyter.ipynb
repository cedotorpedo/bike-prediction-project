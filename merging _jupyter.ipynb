{
 "cells": [
  {
   "cell_type": "markdown",
   "id": "4851ce1c",
   "metadata": {},
   "source": [
    "# THIS FILE IS FOR MERGING EXT DATA"
   ]
  },
  {
   "cell_type": "code",
   "execution_count": 2,
   "id": "d0a4cf3f-8907-443b-adff-6fe13ef29d65",
   "metadata": {},
   "outputs": [],
   "source": [
    "from pathlib import Path\n",
    "\n",
    "import numpy as np\n",
    "import pandas as pd\n",
    "import matplotlib.pyplot as plt\n",
    "import sklearn\n",
    "from sklearn.preprocessing import StandardScaler\n",
    "\n",
    "import tensorflow as tf\n",
    "from tensorflow.keras.models import Sequential\n",
    "from tensorflow.keras.layers import Dense\n",
    "from tensorflow.keras.activations import linear, relu, sigmoid\n",
    "\n",
    "import xgboost as xgb\n",
    "from sklearn.model_selection import GridSearchCV"
   ]
  },
  {
   "cell_type": "markdown",
   "id": "a5e22b23",
   "metadata": {},
   "source": [
    "# Look into counter train and test sets"
   ]
  },
  {
   "cell_type": "code",
   "execution_count": 3,
   "id": "61c60288-e71b-46ae-9eb3-d916d2abc876",
   "metadata": {},
   "outputs": [],
   "source": [
    "data_train = pd.read_parquet(Path(\"data\") / \"train.parquet\")\n",
    "data_test = pd.read_parquet(Path(\"data\") / \"test.parquet\")"
   ]
  },
  {
   "cell_type": "code",
   "execution_count": 4,
   "id": "0d9341b1",
   "metadata": {},
   "outputs": [],
   "source": [
    "data_all = pd.concat([data_train, data_test])\n",
    "data_all = data_all.sort_values(by=['counter_name', 'date'])"
   ]
  },
  {
   "cell_type": "code",
   "execution_count": 5,
   "id": "9d626433",
   "metadata": {},
   "outputs": [
    {
     "data": {
      "text/plain": [
       "Timestamp('2021-09-09 23:00:00')"
      ]
     },
     "execution_count": 5,
     "metadata": {},
     "output_type": "execute_result"
    }
   ],
   "source": [
    "data_all.date.max()"
   ]
  },
  {
   "cell_type": "code",
   "execution_count": 6,
   "id": "1b86716a",
   "metadata": {},
   "outputs": [
    {
     "data": {
      "text/plain": [
       "Timestamp('2021-08-09 23:00:00')"
      ]
     },
     "execution_count": 6,
     "metadata": {},
     "output_type": "execute_result"
    }
   ],
   "source": [
    "data_train.date.max()"
   ]
  },
  {
   "cell_type": "code",
   "execution_count": 9,
   "id": "06fee7d4",
   "metadata": {},
   "outputs": [
    {
     "data": {
      "text/plain": [
       "Timestamp('2021-09-09 23:00:00')"
      ]
     },
     "execution_count": 9,
     "metadata": {},
     "output_type": "execute_result"
    }
   ],
   "source": [
    "data_test.date.max()"
   ]
  },
  {
   "cell_type": "code",
   "execution_count": 99,
   "id": "0794a646",
   "metadata": {},
   "outputs": [
    {
     "data": {
      "text/plain": [
       "counter_id                     56\n",
       "counter_name                   56\n",
       "site_id                        30\n",
       "site_name                      30\n",
       "bike_count                    998\n",
       "date                         8973\n",
       "counter_installation_date      22\n",
       "coordinates                    30\n",
       "counter_technical_id           30\n",
       "latitude                       30\n",
       "longitude                      30\n",
       "log_bike_count                998\n",
       "dtype: int64"
      ]
     },
     "execution_count": 99,
     "metadata": {},
     "output_type": "execute_result"
    }
   ],
   "source": [
    "data_all.nunique(axis=0)"
   ]
  },
  {
   "cell_type": "markdown",
   "id": "53f0e320",
   "metadata": {},
   "source": [
    "# Look into weather ww"
   ]
  },
  {
   "cell_type": "code",
   "execution_count": 100,
   "id": "d258ad1d",
   "metadata": {
    "scrolled": false
   },
   "outputs": [
    {
     "data": {
      "text/html": [
       "<div>\n",
       "<style scoped>\n",
       "    .dataframe tbody tr th:only-of-type {\n",
       "        vertical-align: middle;\n",
       "    }\n",
       "\n",
       "    .dataframe tbody tr th {\n",
       "        vertical-align: top;\n",
       "    }\n",
       "\n",
       "    .dataframe thead th {\n",
       "        text-align: right;\n",
       "    }\n",
       "</style>\n",
       "<table border=\"1\" class=\"dataframe\">\n",
       "  <thead>\n",
       "    <tr style=\"text-align: right;\">\n",
       "      <th></th>\n",
       "      <th>date</th>\n",
       "      <th>ww</th>\n",
       "      <th>w1</th>\n",
       "      <th>w2</th>\n",
       "    </tr>\n",
       "  </thead>\n",
       "  <tbody>\n",
       "    <tr>\n",
       "      <th>0</th>\n",
       "      <td>2021-01-01 00:00:00</td>\n",
       "      <td>2</td>\n",
       "      <td>0.0</td>\n",
       "      <td>0.0</td>\n",
       "    </tr>\n",
       "    <tr>\n",
       "      <th>1</th>\n",
       "      <td>2021-01-01 03:00:00</td>\n",
       "      <td>40</td>\n",
       "      <td>0.0</td>\n",
       "      <td>0.0</td>\n",
       "    </tr>\n",
       "    <tr>\n",
       "      <th>2</th>\n",
       "      <td>2021-01-01 06:00:00</td>\n",
       "      <td>3</td>\n",
       "      <td>1.0</td>\n",
       "      <td>1.0</td>\n",
       "    </tr>\n",
       "    <tr>\n",
       "      <th>3</th>\n",
       "      <td>2021-01-01 09:00:00</td>\n",
       "      <td>10</td>\n",
       "      <td>1.0</td>\n",
       "      <td>1.0</td>\n",
       "    </tr>\n",
       "    <tr>\n",
       "      <th>4</th>\n",
       "      <td>2021-01-01 12:00:00</td>\n",
       "      <td>2</td>\n",
       "      <td>2.0</td>\n",
       "      <td>2.0</td>\n",
       "    </tr>\n",
       "    <tr>\n",
       "      <th>...</th>\n",
       "      <td>...</td>\n",
       "      <td>...</td>\n",
       "      <td>...</td>\n",
       "      <td>...</td>\n",
       "    </tr>\n",
       "    <tr>\n",
       "      <th>3317</th>\n",
       "      <td>2020-09-30 09:00:00</td>\n",
       "      <td>3</td>\n",
       "      <td>2.0</td>\n",
       "      <td>2.0</td>\n",
       "    </tr>\n",
       "    <tr>\n",
       "      <th>3318</th>\n",
       "      <td>2020-09-30 12:00:00</td>\n",
       "      <td>1</td>\n",
       "      <td>2.0</td>\n",
       "      <td>2.0</td>\n",
       "    </tr>\n",
       "    <tr>\n",
       "      <th>3319</th>\n",
       "      <td>2020-09-30 15:00:00</td>\n",
       "      <td>1</td>\n",
       "      <td>2.0</td>\n",
       "      <td>2.0</td>\n",
       "    </tr>\n",
       "    <tr>\n",
       "      <th>3320</th>\n",
       "      <td>2020-09-30 18:00:00</td>\n",
       "      <td>3</td>\n",
       "      <td>2.0</td>\n",
       "      <td>2.0</td>\n",
       "    </tr>\n",
       "    <tr>\n",
       "      <th>3321</th>\n",
       "      <td>2020-09-30 21:00:00</td>\n",
       "      <td>2</td>\n",
       "      <td>2.0</td>\n",
       "      <td>2.0</td>\n",
       "    </tr>\n",
       "  </tbody>\n",
       "</table>\n",
       "<p>3322 rows × 4 columns</p>\n",
       "</div>"
      ],
      "text/plain": [
       "                    date  ww   w1   w2\n",
       "0    2021-01-01 00:00:00   2  0.0  0.0\n",
       "1    2021-01-01 03:00:00  40  0.0  0.0\n",
       "2    2021-01-01 06:00:00   3  1.0  1.0\n",
       "3    2021-01-01 09:00:00  10  1.0  1.0\n",
       "4    2021-01-01 12:00:00   2  2.0  2.0\n",
       "...                  ...  ..  ...  ...\n",
       "3317 2020-09-30 09:00:00   3  2.0  2.0\n",
       "3318 2020-09-30 12:00:00   1  2.0  2.0\n",
       "3319 2020-09-30 15:00:00   1  2.0  2.0\n",
       "3320 2020-09-30 18:00:00   3  2.0  2.0\n",
       "3321 2020-09-30 21:00:00   2  2.0  2.0\n",
       "\n",
       "[3322 rows x 4 columns]"
      ]
     },
     "execution_count": 100,
     "metadata": {},
     "output_type": "execute_result"
    }
   ],
   "source": [
    "weather = pd.read_csv('ext_data/weather.csv')\n",
    "weather[\"date\"] = pd.to_datetime(weather[\"date\"], format = \"%Y-%m-%d %H:%M:%S\")\n",
    "weather = weather.loc[:, weather.columns.intersection(['date','ww','w1','w2'])]\n",
    "weather"
   ]
  },
  {
   "cell_type": "code",
   "execution_count": 101,
   "id": "352342be",
   "metadata": {},
   "outputs": [
    {
     "data": {
      "text/plain": [
       "date    3321\n",
       "ww        42\n",
       "w1         9\n",
       "w2         9\n",
       "dtype: int64"
      ]
     },
     "execution_count": 101,
     "metadata": {},
     "output_type": "execute_result"
    }
   ],
   "source": [
    "weather.nunique(axis=0)"
   ]
  },
  {
   "cell_type": "code",
   "execution_count": 102,
   "id": "8a817c51",
   "metadata": {},
   "outputs": [
    {
     "data": {
      "text/plain": [
       "Timestamp('2021-10-21 12:00:00')"
      ]
     },
     "execution_count": 102,
     "metadata": {},
     "output_type": "execute_result"
    }
   ],
   "source": [
    "weather.date.max()"
   ]
  },
  {
   "cell_type": "code",
   "execution_count": 103,
   "id": "d1bb10c0",
   "metadata": {},
   "outputs": [
    {
     "data": {
      "text/html": [
       "<div>\n",
       "<style scoped>\n",
       "    .dataframe tbody tr th:only-of-type {\n",
       "        vertical-align: middle;\n",
       "    }\n",
       "\n",
       "    .dataframe tbody tr th {\n",
       "        vertical-align: top;\n",
       "    }\n",
       "\n",
       "    .dataframe thead th {\n",
       "        text-align: right;\n",
       "    }\n",
       "</style>\n",
       "<table border=\"1\" class=\"dataframe\">\n",
       "  <thead>\n",
       "    <tr style=\"text-align: right;\">\n",
       "      <th></th>\n",
       "      <th>date</th>\n",
       "      <th>ww</th>\n",
       "      <th>w1</th>\n",
       "      <th>w2</th>\n",
       "    </tr>\n",
       "  </thead>\n",
       "  <tbody>\n",
       "    <tr>\n",
       "      <th>2017</th>\n",
       "      <td>2020-11-20 18:00:00</td>\n",
       "      <td>1</td>\n",
       "      <td>1.0</td>\n",
       "      <td>1.0</td>\n",
       "    </tr>\n",
       "    <tr>\n",
       "      <th>2018</th>\n",
       "      <td>2020-11-20 18:00:00</td>\n",
       "      <td>1</td>\n",
       "      <td>1.0</td>\n",
       "      <td>1.0</td>\n",
       "    </tr>\n",
       "  </tbody>\n",
       "</table>\n",
       "</div>"
      ],
      "text/plain": [
       "                    date  ww   w1   w2\n",
       "2017 2020-11-20 18:00:00   1  1.0  1.0\n",
       "2018 2020-11-20 18:00:00   1  1.0  1.0"
      ]
     },
     "execution_count": 103,
     "metadata": {},
     "output_type": "execute_result"
    }
   ],
   "source": [
    "weather[weather.duplicated(keep=False)]"
   ]
  },
  {
   "cell_type": "code",
   "execution_count": 104,
   "id": "aa072ae8",
   "metadata": {},
   "outputs": [],
   "source": [
    "weather.drop(2017, inplace=True)"
   ]
  },
  {
   "cell_type": "code",
   "execution_count": 105,
   "id": "6104bc86",
   "metadata": {},
   "outputs": [
    {
     "data": {
      "text/plain": [
       "date     0\n",
       "ww       0\n",
       "w1       7\n",
       "w2      10\n",
       "dtype: int64"
      ]
     },
     "execution_count": 105,
     "metadata": {},
     "output_type": "execute_result"
    }
   ],
   "source": [
    "weather.isna().sum()"
   ]
  },
  {
   "cell_type": "code",
   "execution_count": 106,
   "id": "a092088b",
   "metadata": {},
   "outputs": [],
   "source": [
    "weather.dropna(inplace = True)"
   ]
  },
  {
   "cell_type": "code",
   "execution_count": 107,
   "id": "fbfde080",
   "metadata": {},
   "outputs": [],
   "source": [
    "weather_0 = weather.loc[:, weather.columns.intersection(['date','ww'])]\n",
    "weather_1 = weather.loc[:, weather.columns.intersection(['date','w1'])]\n",
    "weather_2 = weather.loc[:, weather.columns.intersection(['date','w2'])]"
   ]
  },
  {
   "cell_type": "code",
   "execution_count": 108,
   "id": "d8fb4f37",
   "metadata": {},
   "outputs": [],
   "source": [
    "weather_1[\"date\"] = weather_1[\"date\"] + pd.Timedelta(hours=-1)\n",
    "weather_2[\"date\"] = weather_2[\"date\"] + pd.Timedelta(hours=-2)"
   ]
  },
  {
   "cell_type": "code",
   "execution_count": 109,
   "id": "b3a6b6a0",
   "metadata": {},
   "outputs": [
    {
     "data": {
      "text/plain": [
       "date    3311\n",
       "ww        42\n",
       "dtype: int64"
      ]
     },
     "execution_count": 109,
     "metadata": {},
     "output_type": "execute_result"
    }
   ],
   "source": [
    "weather_0.nunique(axis=0)"
   ]
  },
  {
   "cell_type": "markdown",
   "id": "745c44ba",
   "metadata": {},
   "source": [
    " # Include confinement"
   ]
  },
  {
   "cell_type": "code",
   "execution_count": 110,
   "id": "b99f09b6",
   "metadata": {},
   "outputs": [],
   "source": [
    "confinement = pd.read_csv('ext_data\\confinement.csv', sep=';')"
   ]
  },
  {
   "cell_type": "code",
   "execution_count": 111,
   "id": "17c7c921",
   "metadata": {},
   "outputs": [],
   "source": [
    "confinement[\"date\"] = pd.to_datetime(confinement[\"date\"], format = \"%Y-%m-%d %H:%M:%S\")"
   ]
  },
  {
   "cell_type": "code",
   "execution_count": 112,
   "id": "e1bd7093",
   "metadata": {
    "scrolled": false
   },
   "outputs": [
    {
     "data": {
      "text/html": [
       "<div>\n",
       "<style scoped>\n",
       "    .dataframe tbody tr th:only-of-type {\n",
       "        vertical-align: middle;\n",
       "    }\n",
       "\n",
       "    .dataframe tbody tr th {\n",
       "        vertical-align: top;\n",
       "    }\n",
       "\n",
       "    .dataframe thead th {\n",
       "        text-align: right;\n",
       "    }\n",
       "</style>\n",
       "<table border=\"1\" class=\"dataframe\">\n",
       "  <thead>\n",
       "    <tr style=\"text-align: right;\">\n",
       "      <th></th>\n",
       "      <th>date</th>\n",
       "      <th>Confinement ce jour</th>\n",
       "    </tr>\n",
       "  </thead>\n",
       "  <tbody>\n",
       "    <tr>\n",
       "      <th>0</th>\n",
       "      <td>2020-09-01 00:00:00</td>\n",
       "      <td>0</td>\n",
       "    </tr>\n",
       "    <tr>\n",
       "      <th>1</th>\n",
       "      <td>2020-09-01 01:00:00</td>\n",
       "      <td>0</td>\n",
       "    </tr>\n",
       "    <tr>\n",
       "      <th>2</th>\n",
       "      <td>2020-09-01 02:00:00</td>\n",
       "      <td>0</td>\n",
       "    </tr>\n",
       "    <tr>\n",
       "      <th>3</th>\n",
       "      <td>2020-09-01 03:00:00</td>\n",
       "      <td>0</td>\n",
       "    </tr>\n",
       "    <tr>\n",
       "      <th>4</th>\n",
       "      <td>2020-09-01 04:00:00</td>\n",
       "      <td>0</td>\n",
       "    </tr>\n",
       "    <tr>\n",
       "      <th>...</th>\n",
       "      <td>...</td>\n",
       "      <td>...</td>\n",
       "    </tr>\n",
       "    <tr>\n",
       "      <th>9884</th>\n",
       "      <td>2021-10-17 20:00:00</td>\n",
       "      <td>0</td>\n",
       "    </tr>\n",
       "    <tr>\n",
       "      <th>9885</th>\n",
       "      <td>2021-10-17 21:00:00</td>\n",
       "      <td>0</td>\n",
       "    </tr>\n",
       "    <tr>\n",
       "      <th>9886</th>\n",
       "      <td>2021-10-17 22:00:00</td>\n",
       "      <td>0</td>\n",
       "    </tr>\n",
       "    <tr>\n",
       "      <th>9887</th>\n",
       "      <td>2021-10-17 23:00:00</td>\n",
       "      <td>0</td>\n",
       "    </tr>\n",
       "    <tr>\n",
       "      <th>9888</th>\n",
       "      <td>2021-10-18 00:00:00</td>\n",
       "      <td>0</td>\n",
       "    </tr>\n",
       "  </tbody>\n",
       "</table>\n",
       "<p>9889 rows × 2 columns</p>\n",
       "</div>"
      ],
      "text/plain": [
       "                    date  Confinement ce jour\n",
       "0    2020-09-01 00:00:00                    0\n",
       "1    2020-09-01 01:00:00                    0\n",
       "2    2020-09-01 02:00:00                    0\n",
       "3    2020-09-01 03:00:00                    0\n",
       "4    2020-09-01 04:00:00                    0\n",
       "...                  ...                  ...\n",
       "9884 2021-10-17 20:00:00                    0\n",
       "9885 2021-10-17 21:00:00                    0\n",
       "9886 2021-10-17 22:00:00                    0\n",
       "9887 2021-10-17 23:00:00                    0\n",
       "9888 2021-10-18 00:00:00                    0\n",
       "\n",
       "[9889 rows x 2 columns]"
      ]
     },
     "execution_count": 112,
     "metadata": {},
     "output_type": "execute_result"
    }
   ],
   "source": [
    "confinement.drop('Unnamed: 0', axis=1,inplace=True)\n",
    "confinement"
   ]
  },
  {
   "cell_type": "code",
   "execution_count": 113,
   "id": "4ad1fc59",
   "metadata": {},
   "outputs": [],
   "source": [
    "confinement.rename({'Confinement ce jour':'conf'}, axis=1, inplace = True)"
   ]
  },
  {
   "cell_type": "markdown",
   "id": "6f7a2f5b",
   "metadata": {},
   "source": [
    "# Merge ww and confinement"
   ]
  },
  {
   "cell_type": "code",
   "execution_count": 114,
   "id": "a022ea00",
   "metadata": {},
   "outputs": [],
   "source": [
    "ext_full = pd.merge(confinement, weather_2, how='left', on='date')\n",
    "ext_full = pd.merge(ext_full, weather_1, how='left', on='date')\n",
    "ext_full = pd.merge(ext_full, weather_0, how='left', on='date')\n",
    "ext_full.replace(np.nan, 0, inplace=True)\n",
    "ext_full[\"ww\"] = ext_full[\"w1\"] + ext_full[\"w2\"] + ext_full[\"ww\"] "
   ]
  },
  {
   "cell_type": "code",
   "execution_count": 115,
   "id": "9eb1cbe1",
   "metadata": {},
   "outputs": [
    {
     "data": {
      "text/html": [
       "<div>\n",
       "<style scoped>\n",
       "    .dataframe tbody tr th:only-of-type {\n",
       "        vertical-align: middle;\n",
       "    }\n",
       "\n",
       "    .dataframe tbody tr th {\n",
       "        vertical-align: top;\n",
       "    }\n",
       "\n",
       "    .dataframe thead th {\n",
       "        text-align: right;\n",
       "    }\n",
       "</style>\n",
       "<table border=\"1\" class=\"dataframe\">\n",
       "  <thead>\n",
       "    <tr style=\"text-align: right;\">\n",
       "      <th></th>\n",
       "      <th>date</th>\n",
       "      <th>conf</th>\n",
       "      <th>w2</th>\n",
       "      <th>w1</th>\n",
       "      <th>ww</th>\n",
       "    </tr>\n",
       "  </thead>\n",
       "  <tbody>\n",
       "    <tr>\n",
       "      <th>0</th>\n",
       "      <td>2020-09-01 00:00:00</td>\n",
       "      <td>0</td>\n",
       "      <td>0.0</td>\n",
       "      <td>0.0</td>\n",
       "      <td>1.0</td>\n",
       "    </tr>\n",
       "    <tr>\n",
       "      <th>1</th>\n",
       "      <td>2020-09-01 01:00:00</td>\n",
       "      <td>0</td>\n",
       "      <td>0.0</td>\n",
       "      <td>0.0</td>\n",
       "      <td>0.0</td>\n",
       "    </tr>\n",
       "    <tr>\n",
       "      <th>2</th>\n",
       "      <td>2020-09-01 02:00:00</td>\n",
       "      <td>0</td>\n",
       "      <td>0.0</td>\n",
       "      <td>0.0</td>\n",
       "      <td>0.0</td>\n",
       "    </tr>\n",
       "    <tr>\n",
       "      <th>3</th>\n",
       "      <td>2020-09-01 03:00:00</td>\n",
       "      <td>0</td>\n",
       "      <td>0.0</td>\n",
       "      <td>0.0</td>\n",
       "      <td>2.0</td>\n",
       "    </tr>\n",
       "    <tr>\n",
       "      <th>4</th>\n",
       "      <td>2020-09-01 04:00:00</td>\n",
       "      <td>0</td>\n",
       "      <td>0.0</td>\n",
       "      <td>0.0</td>\n",
       "      <td>0.0</td>\n",
       "    </tr>\n",
       "    <tr>\n",
       "      <th>...</th>\n",
       "      <td>...</td>\n",
       "      <td>...</td>\n",
       "      <td>...</td>\n",
       "      <td>...</td>\n",
       "      <td>...</td>\n",
       "    </tr>\n",
       "    <tr>\n",
       "      <th>9884</th>\n",
       "      <td>2021-10-17 20:00:00</td>\n",
       "      <td>0</td>\n",
       "      <td>0.0</td>\n",
       "      <td>0.0</td>\n",
       "      <td>0.0</td>\n",
       "    </tr>\n",
       "    <tr>\n",
       "      <th>9885</th>\n",
       "      <td>2021-10-17 21:00:00</td>\n",
       "      <td>0</td>\n",
       "      <td>0.0</td>\n",
       "      <td>0.0</td>\n",
       "      <td>1.0</td>\n",
       "    </tr>\n",
       "    <tr>\n",
       "      <th>9886</th>\n",
       "      <td>2021-10-17 22:00:00</td>\n",
       "      <td>0</td>\n",
       "      <td>0.0</td>\n",
       "      <td>0.0</td>\n",
       "      <td>0.0</td>\n",
       "    </tr>\n",
       "    <tr>\n",
       "      <th>9887</th>\n",
       "      <td>2021-10-17 23:00:00</td>\n",
       "      <td>0</td>\n",
       "      <td>0.0</td>\n",
       "      <td>0.0</td>\n",
       "      <td>0.0</td>\n",
       "    </tr>\n",
       "    <tr>\n",
       "      <th>9888</th>\n",
       "      <td>2021-10-18 00:00:00</td>\n",
       "      <td>0</td>\n",
       "      <td>0.0</td>\n",
       "      <td>0.0</td>\n",
       "      <td>2.0</td>\n",
       "    </tr>\n",
       "  </tbody>\n",
       "</table>\n",
       "<p>9889 rows × 5 columns</p>\n",
       "</div>"
      ],
      "text/plain": [
       "                    date  conf   w2   w1   ww\n",
       "0    2020-09-01 00:00:00     0  0.0  0.0  1.0\n",
       "1    2020-09-01 01:00:00     0  0.0  0.0  0.0\n",
       "2    2020-09-01 02:00:00     0  0.0  0.0  0.0\n",
       "3    2020-09-01 03:00:00     0  0.0  0.0  2.0\n",
       "4    2020-09-01 04:00:00     0  0.0  0.0  0.0\n",
       "...                  ...   ...  ...  ...  ...\n",
       "9884 2021-10-17 20:00:00     0  0.0  0.0  0.0\n",
       "9885 2021-10-17 21:00:00     0  0.0  0.0  1.0\n",
       "9886 2021-10-17 22:00:00     0  0.0  0.0  0.0\n",
       "9887 2021-10-17 23:00:00     0  0.0  0.0  0.0\n",
       "9888 2021-10-18 00:00:00     0  0.0  0.0  2.0\n",
       "\n",
       "[9889 rows x 5 columns]"
      ]
     },
     "execution_count": 115,
     "metadata": {},
     "output_type": "execute_result"
    }
   ],
   "source": [
    "ext_full"
   ]
  },
  {
   "cell_type": "code",
   "execution_count": 116,
   "id": "f752d240",
   "metadata": {},
   "outputs": [],
   "source": [
    "ext_full.drop(columns=['w2','w1'], inplace=True)"
   ]
  },
  {
   "cell_type": "code",
   "execution_count": 117,
   "id": "b28de8cf",
   "metadata": {},
   "outputs": [
    {
     "data": {
      "text/html": [
       "<div>\n",
       "<style scoped>\n",
       "    .dataframe tbody tr th:only-of-type {\n",
       "        vertical-align: middle;\n",
       "    }\n",
       "\n",
       "    .dataframe tbody tr th {\n",
       "        vertical-align: top;\n",
       "    }\n",
       "\n",
       "    .dataframe thead th {\n",
       "        text-align: right;\n",
       "    }\n",
       "</style>\n",
       "<table border=\"1\" class=\"dataframe\">\n",
       "  <thead>\n",
       "    <tr style=\"text-align: right;\">\n",
       "      <th></th>\n",
       "      <th>date</th>\n",
       "      <th>conf</th>\n",
       "      <th>ww</th>\n",
       "    </tr>\n",
       "  </thead>\n",
       "  <tbody>\n",
       "    <tr>\n",
       "      <th>0</th>\n",
       "      <td>2020-09-01 00:00:00</td>\n",
       "      <td>0</td>\n",
       "      <td>1.0</td>\n",
       "    </tr>\n",
       "    <tr>\n",
       "      <th>1</th>\n",
       "      <td>2020-09-01 01:00:00</td>\n",
       "      <td>0</td>\n",
       "      <td>0.0</td>\n",
       "    </tr>\n",
       "    <tr>\n",
       "      <th>2</th>\n",
       "      <td>2020-09-01 02:00:00</td>\n",
       "      <td>0</td>\n",
       "      <td>0.0</td>\n",
       "    </tr>\n",
       "    <tr>\n",
       "      <th>3</th>\n",
       "      <td>2020-09-01 03:00:00</td>\n",
       "      <td>0</td>\n",
       "      <td>2.0</td>\n",
       "    </tr>\n",
       "    <tr>\n",
       "      <th>4</th>\n",
       "      <td>2020-09-01 04:00:00</td>\n",
       "      <td>0</td>\n",
       "      <td>0.0</td>\n",
       "    </tr>\n",
       "    <tr>\n",
       "      <th>...</th>\n",
       "      <td>...</td>\n",
       "      <td>...</td>\n",
       "      <td>...</td>\n",
       "    </tr>\n",
       "    <tr>\n",
       "      <th>9884</th>\n",
       "      <td>2021-10-17 20:00:00</td>\n",
       "      <td>0</td>\n",
       "      <td>0.0</td>\n",
       "    </tr>\n",
       "    <tr>\n",
       "      <th>9885</th>\n",
       "      <td>2021-10-17 21:00:00</td>\n",
       "      <td>0</td>\n",
       "      <td>1.0</td>\n",
       "    </tr>\n",
       "    <tr>\n",
       "      <th>9886</th>\n",
       "      <td>2021-10-17 22:00:00</td>\n",
       "      <td>0</td>\n",
       "      <td>0.0</td>\n",
       "    </tr>\n",
       "    <tr>\n",
       "      <th>9887</th>\n",
       "      <td>2021-10-17 23:00:00</td>\n",
       "      <td>0</td>\n",
       "      <td>0.0</td>\n",
       "    </tr>\n",
       "    <tr>\n",
       "      <th>9888</th>\n",
       "      <td>2021-10-18 00:00:00</td>\n",
       "      <td>0</td>\n",
       "      <td>2.0</td>\n",
       "    </tr>\n",
       "  </tbody>\n",
       "</table>\n",
       "<p>9889 rows × 3 columns</p>\n",
       "</div>"
      ],
      "text/plain": [
       "                    date  conf   ww\n",
       "0    2020-09-01 00:00:00     0  1.0\n",
       "1    2020-09-01 01:00:00     0  0.0\n",
       "2    2020-09-01 02:00:00     0  0.0\n",
       "3    2020-09-01 03:00:00     0  2.0\n",
       "4    2020-09-01 04:00:00     0  0.0\n",
       "...                  ...   ...  ...\n",
       "9884 2021-10-17 20:00:00     0  0.0\n",
       "9885 2021-10-17 21:00:00     0  1.0\n",
       "9886 2021-10-17 22:00:00     0  0.0\n",
       "9887 2021-10-17 23:00:00     0  0.0\n",
       "9888 2021-10-18 00:00:00     0  2.0\n",
       "\n",
       "[9889 rows x 3 columns]"
      ]
     },
     "execution_count": 117,
     "metadata": {},
     "output_type": "execute_result"
    }
   ],
   "source": [
    "ext_full"
   ]
  },
  {
   "cell_type": "code",
   "execution_count": 118,
   "id": "1ebc4d20",
   "metadata": {},
   "outputs": [],
   "source": [
    "ext_full.to_csv(r'C:\\Users\\CEDI\\Dropbox\\Education\\X\\Python for Data Science\\bike_counters\\ext_data\\ext_2f.csv')"
   ]
  },
  {
   "cell_type": "markdown",
   "id": "0bf75138",
   "metadata": {},
   "source": [
    "# Adding tempneb"
   ]
  },
  {
   "cell_type": "code",
   "execution_count": 119,
   "id": "7d98ae2a",
   "metadata": {},
   "outputs": [
    {
     "data": {
      "text/html": [
       "<div>\n",
       "<style scoped>\n",
       "    .dataframe tbody tr th:only-of-type {\n",
       "        vertical-align: middle;\n",
       "    }\n",
       "\n",
       "    .dataframe tbody tr th {\n",
       "        vertical-align: top;\n",
       "    }\n",
       "\n",
       "    .dataframe thead th {\n",
       "        text-align: right;\n",
       "    }\n",
       "</style>\n",
       "<table border=\"1\" class=\"dataframe\">\n",
       "  <thead>\n",
       "    <tr style=\"text-align: right;\">\n",
       "      <th></th>\n",
       "      <th>date</th>\n",
       "      <th>t</th>\n",
       "      <th>nbas</th>\n",
       "    </tr>\n",
       "  </thead>\n",
       "  <tbody>\n",
       "    <tr>\n",
       "      <th>0</th>\n",
       "      <td>2021-01-01 00:00:00</td>\n",
       "      <td>272.75</td>\n",
       "      <td>1.0</td>\n",
       "    </tr>\n",
       "    <tr>\n",
       "      <th>1</th>\n",
       "      <td>2021-01-01 03:00:00</td>\n",
       "      <td>271.25</td>\n",
       "      <td>1.0</td>\n",
       "    </tr>\n",
       "    <tr>\n",
       "      <th>2</th>\n",
       "      <td>2021-01-01 06:00:00</td>\n",
       "      <td>271.95</td>\n",
       "      <td>5.0</td>\n",
       "    </tr>\n",
       "    <tr>\n",
       "      <th>3</th>\n",
       "      <td>2021-01-01 09:00:00</td>\n",
       "      <td>272.45</td>\n",
       "      <td>1.0</td>\n",
       "    </tr>\n",
       "    <tr>\n",
       "      <th>4</th>\n",
       "      <td>2021-01-01 12:00:00</td>\n",
       "      <td>276.95</td>\n",
       "      <td>7.0</td>\n",
       "    </tr>\n",
       "    <tr>\n",
       "      <th>...</th>\n",
       "      <td>...</td>\n",
       "      <td>...</td>\n",
       "      <td>...</td>\n",
       "    </tr>\n",
       "    <tr>\n",
       "      <th>3317</th>\n",
       "      <td>2020-09-30 09:00:00</td>\n",
       "      <td>289.95</td>\n",
       "      <td>7.0</td>\n",
       "    </tr>\n",
       "    <tr>\n",
       "      <th>3318</th>\n",
       "      <td>2020-09-30 12:00:00</td>\n",
       "      <td>292.05</td>\n",
       "      <td>7.0</td>\n",
       "    </tr>\n",
       "    <tr>\n",
       "      <th>3319</th>\n",
       "      <td>2020-09-30 15:00:00</td>\n",
       "      <td>291.55</td>\n",
       "      <td>7.0</td>\n",
       "    </tr>\n",
       "    <tr>\n",
       "      <th>3320</th>\n",
       "      <td>2020-09-30 18:00:00</td>\n",
       "      <td>290.15</td>\n",
       "      <td>8.0</td>\n",
       "    </tr>\n",
       "    <tr>\n",
       "      <th>3321</th>\n",
       "      <td>2020-09-30 21:00:00</td>\n",
       "      <td>288.35</td>\n",
       "      <td>2.0</td>\n",
       "    </tr>\n",
       "  </tbody>\n",
       "</table>\n",
       "<p>3322 rows × 3 columns</p>\n",
       "</div>"
      ],
      "text/plain": [
       "                    date       t  nbas\n",
       "0    2021-01-01 00:00:00  272.75   1.0\n",
       "1    2021-01-01 03:00:00  271.25   1.0\n",
       "2    2021-01-01 06:00:00  271.95   5.0\n",
       "3    2021-01-01 09:00:00  272.45   1.0\n",
       "4    2021-01-01 12:00:00  276.95   7.0\n",
       "...                  ...     ...   ...\n",
       "3317 2020-09-30 09:00:00  289.95   7.0\n",
       "3318 2020-09-30 12:00:00  292.05   7.0\n",
       "3319 2020-09-30 15:00:00  291.55   7.0\n",
       "3320 2020-09-30 18:00:00  290.15   8.0\n",
       "3321 2020-09-30 21:00:00  288.35   2.0\n",
       "\n",
       "[3322 rows x 3 columns]"
      ]
     },
     "execution_count": 119,
     "metadata": {},
     "output_type": "execute_result"
    }
   ],
   "source": [
    "weather = pd.read_csv('ext_data/weather.csv')\n",
    "weather[\"date\"] = pd.to_datetime(weather[\"date\"], format = \"%Y-%m-%d %H:%M:%S\")\n",
    "tempneb = weather.loc[:, weather.columns.intersection(['date', 't', 'nbas'])]\n",
    "tempneb"
   ]
  },
  {
   "cell_type": "code",
   "execution_count": 120,
   "id": "f35b111c",
   "metadata": {},
   "outputs": [
    {
     "data": {
      "text/plain": [
       "Timestamp('2021-10-18 00:00:00')"
      ]
     },
     "execution_count": 120,
     "metadata": {},
     "output_type": "execute_result"
    }
   ],
   "source": [
    "ext_full.date.max()"
   ]
  },
  {
   "cell_type": "code",
   "execution_count": 121,
   "id": "ad1f3655",
   "metadata": {},
   "outputs": [],
   "source": [
    "ext_4f = pd.merge_asof(\n",
    "        ext_full.sort_values(\"date\"), tempneb.sort_values(\"date\"), on=\"date\"\n",
    ")"
   ]
  },
  {
   "cell_type": "code",
   "execution_count": 122,
   "id": "5f03aa3d",
   "metadata": {},
   "outputs": [
    {
     "data": {
      "text/html": [
       "<div>\n",
       "<style scoped>\n",
       "    .dataframe tbody tr th:only-of-type {\n",
       "        vertical-align: middle;\n",
       "    }\n",
       "\n",
       "    .dataframe tbody tr th {\n",
       "        vertical-align: top;\n",
       "    }\n",
       "\n",
       "    .dataframe thead th {\n",
       "        text-align: right;\n",
       "    }\n",
       "</style>\n",
       "<table border=\"1\" class=\"dataframe\">\n",
       "  <thead>\n",
       "    <tr style=\"text-align: right;\">\n",
       "      <th></th>\n",
       "      <th>date</th>\n",
       "      <th>conf</th>\n",
       "      <th>ww</th>\n",
       "      <th>t</th>\n",
       "      <th>nbas</th>\n",
       "    </tr>\n",
       "  </thead>\n",
       "  <tbody>\n",
       "    <tr>\n",
       "      <th>0</th>\n",
       "      <td>2020-09-01 00:00:00</td>\n",
       "      <td>0</td>\n",
       "      <td>1.0</td>\n",
       "      <td>285.75</td>\n",
       "      <td>0.0</td>\n",
       "    </tr>\n",
       "    <tr>\n",
       "      <th>1</th>\n",
       "      <td>2020-09-01 01:00:00</td>\n",
       "      <td>0</td>\n",
       "      <td>0.0</td>\n",
       "      <td>285.75</td>\n",
       "      <td>0.0</td>\n",
       "    </tr>\n",
       "    <tr>\n",
       "      <th>2</th>\n",
       "      <td>2020-09-01 02:00:00</td>\n",
       "      <td>0</td>\n",
       "      <td>0.0</td>\n",
       "      <td>285.75</td>\n",
       "      <td>0.0</td>\n",
       "    </tr>\n",
       "    <tr>\n",
       "      <th>3</th>\n",
       "      <td>2020-09-01 03:00:00</td>\n",
       "      <td>0</td>\n",
       "      <td>2.0</td>\n",
       "      <td>283.95</td>\n",
       "      <td>0.0</td>\n",
       "    </tr>\n",
       "    <tr>\n",
       "      <th>4</th>\n",
       "      <td>2020-09-01 04:00:00</td>\n",
       "      <td>0</td>\n",
       "      <td>0.0</td>\n",
       "      <td>283.95</td>\n",
       "      <td>0.0</td>\n",
       "    </tr>\n",
       "    <tr>\n",
       "      <th>...</th>\n",
       "      <td>...</td>\n",
       "      <td>...</td>\n",
       "      <td>...</td>\n",
       "      <td>...</td>\n",
       "      <td>...</td>\n",
       "    </tr>\n",
       "    <tr>\n",
       "      <th>9884</th>\n",
       "      <td>2021-10-17 20:00:00</td>\n",
       "      <td>0</td>\n",
       "      <td>0.0</td>\n",
       "      <td>285.65</td>\n",
       "      <td>0.0</td>\n",
       "    </tr>\n",
       "    <tr>\n",
       "      <th>9885</th>\n",
       "      <td>2021-10-17 21:00:00</td>\n",
       "      <td>0</td>\n",
       "      <td>1.0</td>\n",
       "      <td>282.75</td>\n",
       "      <td>0.0</td>\n",
       "    </tr>\n",
       "    <tr>\n",
       "      <th>9886</th>\n",
       "      <td>2021-10-17 22:00:00</td>\n",
       "      <td>0</td>\n",
       "      <td>0.0</td>\n",
       "      <td>282.75</td>\n",
       "      <td>0.0</td>\n",
       "    </tr>\n",
       "    <tr>\n",
       "      <th>9887</th>\n",
       "      <td>2021-10-17 23:00:00</td>\n",
       "      <td>0</td>\n",
       "      <td>0.0</td>\n",
       "      <td>282.75</td>\n",
       "      <td>0.0</td>\n",
       "    </tr>\n",
       "    <tr>\n",
       "      <th>9888</th>\n",
       "      <td>2021-10-18 00:00:00</td>\n",
       "      <td>0</td>\n",
       "      <td>2.0</td>\n",
       "      <td>279.25</td>\n",
       "      <td>0.0</td>\n",
       "    </tr>\n",
       "  </tbody>\n",
       "</table>\n",
       "<p>9889 rows × 5 columns</p>\n",
       "</div>"
      ],
      "text/plain": [
       "                    date  conf   ww       t  nbas\n",
       "0    2020-09-01 00:00:00     0  1.0  285.75   0.0\n",
       "1    2020-09-01 01:00:00     0  0.0  285.75   0.0\n",
       "2    2020-09-01 02:00:00     0  0.0  285.75   0.0\n",
       "3    2020-09-01 03:00:00     0  2.0  283.95   0.0\n",
       "4    2020-09-01 04:00:00     0  0.0  283.95   0.0\n",
       "...                  ...   ...  ...     ...   ...\n",
       "9884 2021-10-17 20:00:00     0  0.0  285.65   0.0\n",
       "9885 2021-10-17 21:00:00     0  1.0  282.75   0.0\n",
       "9886 2021-10-17 22:00:00     0  0.0  282.75   0.0\n",
       "9887 2021-10-17 23:00:00     0  0.0  282.75   0.0\n",
       "9888 2021-10-18 00:00:00     0  2.0  279.25   0.0\n",
       "\n",
       "[9889 rows x 5 columns]"
      ]
     },
     "execution_count": 122,
     "metadata": {},
     "output_type": "execute_result"
    }
   ],
   "source": [
    "ext_4f"
   ]
  },
  {
   "cell_type": "code",
   "execution_count": 123,
   "id": "6cd9ad82",
   "metadata": {},
   "outputs": [],
   "source": [
    "ext_4f['t'] -= 273.15"
   ]
  },
  {
   "cell_type": "code",
   "execution_count": 124,
   "id": "a87d9ce4",
   "metadata": {},
   "outputs": [
    {
     "data": {
      "text/plain": [
       "date     0\n",
       "conf     0\n",
       "ww       0\n",
       "t        0\n",
       "nbas    15\n",
       "dtype: int64"
      ]
     },
     "execution_count": 124,
     "metadata": {},
     "output_type": "execute_result"
    }
   ],
   "source": [
    "ext_4f.isna().sum()"
   ]
  },
  {
   "cell_type": "code",
   "execution_count": 125,
   "id": "2da16015",
   "metadata": {},
   "outputs": [],
   "source": [
    "ext_full.replace(np.nan, 0, inplace=True)"
   ]
  },
  {
   "cell_type": "code",
   "execution_count": 126,
   "id": "771300b9",
   "metadata": {},
   "outputs": [
    {
     "data": {
      "text/html": [
       "<div>\n",
       "<style scoped>\n",
       "    .dataframe tbody tr th:only-of-type {\n",
       "        vertical-align: middle;\n",
       "    }\n",
       "\n",
       "    .dataframe tbody tr th {\n",
       "        vertical-align: top;\n",
       "    }\n",
       "\n",
       "    .dataframe thead th {\n",
       "        text-align: right;\n",
       "    }\n",
       "</style>\n",
       "<table border=\"1\" class=\"dataframe\">\n",
       "  <thead>\n",
       "    <tr style=\"text-align: right;\">\n",
       "      <th></th>\n",
       "      <th>date</th>\n",
       "      <th>conf</th>\n",
       "      <th>ww</th>\n",
       "      <th>t</th>\n",
       "      <th>nbas</th>\n",
       "    </tr>\n",
       "  </thead>\n",
       "  <tbody>\n",
       "    <tr>\n",
       "      <th>0</th>\n",
       "      <td>2020-09-01 00:00:00</td>\n",
       "      <td>0</td>\n",
       "      <td>1.0</td>\n",
       "      <td>12.6</td>\n",
       "      <td>0.0</td>\n",
       "    </tr>\n",
       "    <tr>\n",
       "      <th>1</th>\n",
       "      <td>2020-09-01 01:00:00</td>\n",
       "      <td>0</td>\n",
       "      <td>0.0</td>\n",
       "      <td>12.6</td>\n",
       "      <td>0.0</td>\n",
       "    </tr>\n",
       "    <tr>\n",
       "      <th>2</th>\n",
       "      <td>2020-09-01 02:00:00</td>\n",
       "      <td>0</td>\n",
       "      <td>0.0</td>\n",
       "      <td>12.6</td>\n",
       "      <td>0.0</td>\n",
       "    </tr>\n",
       "    <tr>\n",
       "      <th>3</th>\n",
       "      <td>2020-09-01 03:00:00</td>\n",
       "      <td>0</td>\n",
       "      <td>2.0</td>\n",
       "      <td>10.8</td>\n",
       "      <td>0.0</td>\n",
       "    </tr>\n",
       "    <tr>\n",
       "      <th>4</th>\n",
       "      <td>2020-09-01 04:00:00</td>\n",
       "      <td>0</td>\n",
       "      <td>0.0</td>\n",
       "      <td>10.8</td>\n",
       "      <td>0.0</td>\n",
       "    </tr>\n",
       "    <tr>\n",
       "      <th>...</th>\n",
       "      <td>...</td>\n",
       "      <td>...</td>\n",
       "      <td>...</td>\n",
       "      <td>...</td>\n",
       "      <td>...</td>\n",
       "    </tr>\n",
       "    <tr>\n",
       "      <th>9884</th>\n",
       "      <td>2021-10-17 20:00:00</td>\n",
       "      <td>0</td>\n",
       "      <td>0.0</td>\n",
       "      <td>12.5</td>\n",
       "      <td>0.0</td>\n",
       "    </tr>\n",
       "    <tr>\n",
       "      <th>9885</th>\n",
       "      <td>2021-10-17 21:00:00</td>\n",
       "      <td>0</td>\n",
       "      <td>1.0</td>\n",
       "      <td>9.6</td>\n",
       "      <td>0.0</td>\n",
       "    </tr>\n",
       "    <tr>\n",
       "      <th>9886</th>\n",
       "      <td>2021-10-17 22:00:00</td>\n",
       "      <td>0</td>\n",
       "      <td>0.0</td>\n",
       "      <td>9.6</td>\n",
       "      <td>0.0</td>\n",
       "    </tr>\n",
       "    <tr>\n",
       "      <th>9887</th>\n",
       "      <td>2021-10-17 23:00:00</td>\n",
       "      <td>0</td>\n",
       "      <td>0.0</td>\n",
       "      <td>9.6</td>\n",
       "      <td>0.0</td>\n",
       "    </tr>\n",
       "    <tr>\n",
       "      <th>9888</th>\n",
       "      <td>2021-10-18 00:00:00</td>\n",
       "      <td>0</td>\n",
       "      <td>2.0</td>\n",
       "      <td>6.1</td>\n",
       "      <td>0.0</td>\n",
       "    </tr>\n",
       "  </tbody>\n",
       "</table>\n",
       "<p>9889 rows × 5 columns</p>\n",
       "</div>"
      ],
      "text/plain": [
       "                    date  conf   ww     t  nbas\n",
       "0    2020-09-01 00:00:00     0  1.0  12.6   0.0\n",
       "1    2020-09-01 01:00:00     0  0.0  12.6   0.0\n",
       "2    2020-09-01 02:00:00     0  0.0  12.6   0.0\n",
       "3    2020-09-01 03:00:00     0  2.0  10.8   0.0\n",
       "4    2020-09-01 04:00:00     0  0.0  10.8   0.0\n",
       "...                  ...   ...  ...   ...   ...\n",
       "9884 2021-10-17 20:00:00     0  0.0  12.5   0.0\n",
       "9885 2021-10-17 21:00:00     0  1.0   9.6   0.0\n",
       "9886 2021-10-17 22:00:00     0  0.0   9.6   0.0\n",
       "9887 2021-10-17 23:00:00     0  0.0   9.6   0.0\n",
       "9888 2021-10-18 00:00:00     0  2.0   6.1   0.0\n",
       "\n",
       "[9889 rows x 5 columns]"
      ]
     },
     "execution_count": 126,
     "metadata": {},
     "output_type": "execute_result"
    }
   ],
   "source": [
    "ext_4f"
   ]
  },
  {
   "cell_type": "code",
   "execution_count": 184,
   "id": "45e0cb2e",
   "metadata": {},
   "outputs": [],
   "source": [
    "ext_4f.to_csv(r'C:\\Users\\CEDI\\Dropbox\\Education\\X\\Python for Data Science\\bike_counters\\ext_data\\ext_4f.csv')"
   ]
  },
  {
   "cell_type": "markdown",
   "id": "dd1f6bb0",
   "metadata": {},
   "source": [
    "# Adding Holidays, Bank Holidays and Strike rate"
   ]
  },
  {
   "cell_type": "code",
   "execution_count": 130,
   "id": "7ed91707",
   "metadata": {},
   "outputs": [
    {
     "data": {
      "text/html": [
       "<div>\n",
       "<style scoped>\n",
       "    .dataframe tbody tr th:only-of-type {\n",
       "        vertical-align: middle;\n",
       "    }\n",
       "\n",
       "    .dataframe tbody tr th {\n",
       "        vertical-align: top;\n",
       "    }\n",
       "\n",
       "    .dataframe thead th {\n",
       "        text-align: right;\n",
       "    }\n",
       "</style>\n",
       "<table border=\"1\" class=\"dataframe\">\n",
       "  <thead>\n",
       "    <tr style=\"text-align: right;\">\n",
       "      <th></th>\n",
       "      <th>date</th>\n",
       "      <th>vacances_zone_c</th>\n",
       "      <th>bank_days</th>\n",
       "      <th>strike_rate</th>\n",
       "    </tr>\n",
       "  </thead>\n",
       "  <tbody>\n",
       "    <tr>\n",
       "      <th>0</th>\n",
       "      <td>2020-09-01 00:00:00</td>\n",
       "      <td>0</td>\n",
       "      <td>0</td>\n",
       "      <td>0.0</td>\n",
       "    </tr>\n",
       "    <tr>\n",
       "      <th>1</th>\n",
       "      <td>2020-09-01 01:00:00</td>\n",
       "      <td>0</td>\n",
       "      <td>0</td>\n",
       "      <td>0.0</td>\n",
       "    </tr>\n",
       "    <tr>\n",
       "      <th>2</th>\n",
       "      <td>2020-09-01 02:00:00</td>\n",
       "      <td>0</td>\n",
       "      <td>0</td>\n",
       "      <td>0.0</td>\n",
       "    </tr>\n",
       "    <tr>\n",
       "      <th>3</th>\n",
       "      <td>2020-09-01 03:00:00</td>\n",
       "      <td>0</td>\n",
       "      <td>0</td>\n",
       "      <td>0.0</td>\n",
       "    </tr>\n",
       "    <tr>\n",
       "      <th>4</th>\n",
       "      <td>2020-09-01 04:00:00</td>\n",
       "      <td>0</td>\n",
       "      <td>0</td>\n",
       "      <td>0.0</td>\n",
       "    </tr>\n",
       "    <tr>\n",
       "      <th>...</th>\n",
       "      <td>...</td>\n",
       "      <td>...</td>\n",
       "      <td>...</td>\n",
       "      <td>...</td>\n",
       "    </tr>\n",
       "    <tr>\n",
       "      <th>9882</th>\n",
       "      <td>2021-10-17 20:00:00</td>\n",
       "      <td>0</td>\n",
       "      <td>0</td>\n",
       "      <td>NaN</td>\n",
       "    </tr>\n",
       "    <tr>\n",
       "      <th>9883</th>\n",
       "      <td>2021-10-17 21:00:00</td>\n",
       "      <td>0</td>\n",
       "      <td>0</td>\n",
       "      <td>NaN</td>\n",
       "    </tr>\n",
       "    <tr>\n",
       "      <th>9884</th>\n",
       "      <td>2021-10-17 22:00:00</td>\n",
       "      <td>0</td>\n",
       "      <td>0</td>\n",
       "      <td>NaN</td>\n",
       "    </tr>\n",
       "    <tr>\n",
       "      <th>9885</th>\n",
       "      <td>2021-10-17 23:00:00</td>\n",
       "      <td>0</td>\n",
       "      <td>0</td>\n",
       "      <td>NaN</td>\n",
       "    </tr>\n",
       "    <tr>\n",
       "      <th>9886</th>\n",
       "      <td>2021-10-18 00:00:00</td>\n",
       "      <td>0</td>\n",
       "      <td>0</td>\n",
       "      <td>NaN</td>\n",
       "    </tr>\n",
       "  </tbody>\n",
       "</table>\n",
       "<p>9887 rows × 4 columns</p>\n",
       "</div>"
      ],
      "text/plain": [
       "                    date  vacances_zone_c  bank_days  strike_rate\n",
       "0    2020-09-01 00:00:00                0          0          0.0\n",
       "1    2020-09-01 01:00:00                0          0          0.0\n",
       "2    2020-09-01 02:00:00                0          0          0.0\n",
       "3    2020-09-01 03:00:00                0          0          0.0\n",
       "4    2020-09-01 04:00:00                0          0          0.0\n",
       "...                  ...              ...        ...          ...\n",
       "9882 2021-10-17 20:00:00                0          0          NaN\n",
       "9883 2021-10-17 21:00:00                0          0          NaN\n",
       "9884 2021-10-17 22:00:00                0          0          NaN\n",
       "9885 2021-10-17 23:00:00                0          0          NaN\n",
       "9886 2021-10-18 00:00:00                0          0          NaN\n",
       "\n",
       "[9887 rows x 4 columns]"
      ]
     },
     "execution_count": 130,
     "metadata": {},
     "output_type": "execute_result"
    }
   ],
   "source": [
    "bvs = pd.read_csv('ext_data/bank_vacs_strike.csv')\n",
    "bvs[\"date\"] = pd.to_datetime(bvs[\"date\"], format = \"%m/%d/%Y %H:%M\")\n",
    "bvs"
   ]
  },
  {
   "cell_type": "code",
   "execution_count": 131,
   "id": "c0d50eb9",
   "metadata": {},
   "outputs": [
    {
     "name": "stdout",
     "output_type": "stream",
     "text": [
      "<class 'pandas.core.frame.DataFrame'>\n",
      "RangeIndex: 9887 entries, 0 to 9886\n",
      "Data columns (total 4 columns):\n",
      " #   Column           Non-Null Count  Dtype         \n",
      "---  ------           --------------  -----         \n",
      " 0   date             9887 non-null   datetime64[ns]\n",
      " 1   vacances_zone_c  9887 non-null   int64         \n",
      " 2   bank_days        9887 non-null   int64         \n",
      " 3   strike_rate      8974 non-null   float64       \n",
      "dtypes: datetime64[ns](1), float64(1), int64(2)\n",
      "memory usage: 309.1 KB\n"
     ]
    }
   ],
   "source": [
    "bvs.info()"
   ]
  },
  {
   "cell_type": "code",
   "execution_count": 132,
   "id": "23d278fb",
   "metadata": {},
   "outputs": [],
   "source": [
    "ext_7f = pd.merge(ext_4f, bvs, how='left', on='date')"
   ]
  },
  {
   "cell_type": "code",
   "execution_count": 133,
   "id": "d6a51c85",
   "metadata": {},
   "outputs": [
    {
     "data": {
      "text/html": [
       "<div>\n",
       "<style scoped>\n",
       "    .dataframe tbody tr th:only-of-type {\n",
       "        vertical-align: middle;\n",
       "    }\n",
       "\n",
       "    .dataframe tbody tr th {\n",
       "        vertical-align: top;\n",
       "    }\n",
       "\n",
       "    .dataframe thead th {\n",
       "        text-align: right;\n",
       "    }\n",
       "</style>\n",
       "<table border=\"1\" class=\"dataframe\">\n",
       "  <thead>\n",
       "    <tr style=\"text-align: right;\">\n",
       "      <th></th>\n",
       "      <th>date</th>\n",
       "      <th>conf</th>\n",
       "      <th>ww</th>\n",
       "      <th>t</th>\n",
       "      <th>nbas</th>\n",
       "      <th>vacances_zone_c</th>\n",
       "      <th>bank_days</th>\n",
       "      <th>strike_rate</th>\n",
       "    </tr>\n",
       "  </thead>\n",
       "  <tbody>\n",
       "    <tr>\n",
       "      <th>0</th>\n",
       "      <td>2020-09-01 00:00:00</td>\n",
       "      <td>0</td>\n",
       "      <td>1.0</td>\n",
       "      <td>12.6</td>\n",
       "      <td>0.0</td>\n",
       "      <td>0.0</td>\n",
       "      <td>0.0</td>\n",
       "      <td>0.0</td>\n",
       "    </tr>\n",
       "    <tr>\n",
       "      <th>1</th>\n",
       "      <td>2020-09-01 01:00:00</td>\n",
       "      <td>0</td>\n",
       "      <td>0.0</td>\n",
       "      <td>12.6</td>\n",
       "      <td>0.0</td>\n",
       "      <td>0.0</td>\n",
       "      <td>0.0</td>\n",
       "      <td>0.0</td>\n",
       "    </tr>\n",
       "    <tr>\n",
       "      <th>2</th>\n",
       "      <td>2020-09-01 02:00:00</td>\n",
       "      <td>0</td>\n",
       "      <td>0.0</td>\n",
       "      <td>12.6</td>\n",
       "      <td>0.0</td>\n",
       "      <td>0.0</td>\n",
       "      <td>0.0</td>\n",
       "      <td>0.0</td>\n",
       "    </tr>\n",
       "    <tr>\n",
       "      <th>3</th>\n",
       "      <td>2020-09-01 03:00:00</td>\n",
       "      <td>0</td>\n",
       "      <td>2.0</td>\n",
       "      <td>10.8</td>\n",
       "      <td>0.0</td>\n",
       "      <td>0.0</td>\n",
       "      <td>0.0</td>\n",
       "      <td>0.0</td>\n",
       "    </tr>\n",
       "    <tr>\n",
       "      <th>4</th>\n",
       "      <td>2020-09-01 04:00:00</td>\n",
       "      <td>0</td>\n",
       "      <td>0.0</td>\n",
       "      <td>10.8</td>\n",
       "      <td>0.0</td>\n",
       "      <td>0.0</td>\n",
       "      <td>0.0</td>\n",
       "      <td>0.0</td>\n",
       "    </tr>\n",
       "    <tr>\n",
       "      <th>...</th>\n",
       "      <td>...</td>\n",
       "      <td>...</td>\n",
       "      <td>...</td>\n",
       "      <td>...</td>\n",
       "      <td>...</td>\n",
       "      <td>...</td>\n",
       "      <td>...</td>\n",
       "      <td>...</td>\n",
       "    </tr>\n",
       "    <tr>\n",
       "      <th>9884</th>\n",
       "      <td>2021-10-17 20:00:00</td>\n",
       "      <td>0</td>\n",
       "      <td>0.0</td>\n",
       "      <td>12.5</td>\n",
       "      <td>0.0</td>\n",
       "      <td>0.0</td>\n",
       "      <td>0.0</td>\n",
       "      <td>NaN</td>\n",
       "    </tr>\n",
       "    <tr>\n",
       "      <th>9885</th>\n",
       "      <td>2021-10-17 21:00:00</td>\n",
       "      <td>0</td>\n",
       "      <td>1.0</td>\n",
       "      <td>9.6</td>\n",
       "      <td>0.0</td>\n",
       "      <td>0.0</td>\n",
       "      <td>0.0</td>\n",
       "      <td>NaN</td>\n",
       "    </tr>\n",
       "    <tr>\n",
       "      <th>9886</th>\n",
       "      <td>2021-10-17 22:00:00</td>\n",
       "      <td>0</td>\n",
       "      <td>0.0</td>\n",
       "      <td>9.6</td>\n",
       "      <td>0.0</td>\n",
       "      <td>0.0</td>\n",
       "      <td>0.0</td>\n",
       "      <td>NaN</td>\n",
       "    </tr>\n",
       "    <tr>\n",
       "      <th>9887</th>\n",
       "      <td>2021-10-17 23:00:00</td>\n",
       "      <td>0</td>\n",
       "      <td>0.0</td>\n",
       "      <td>9.6</td>\n",
       "      <td>0.0</td>\n",
       "      <td>0.0</td>\n",
       "      <td>0.0</td>\n",
       "      <td>NaN</td>\n",
       "    </tr>\n",
       "    <tr>\n",
       "      <th>9888</th>\n",
       "      <td>2021-10-18 00:00:00</td>\n",
       "      <td>0</td>\n",
       "      <td>2.0</td>\n",
       "      <td>6.1</td>\n",
       "      <td>0.0</td>\n",
       "      <td>0.0</td>\n",
       "      <td>0.0</td>\n",
       "      <td>NaN</td>\n",
       "    </tr>\n",
       "  </tbody>\n",
       "</table>\n",
       "<p>9889 rows × 8 columns</p>\n",
       "</div>"
      ],
      "text/plain": [
       "                    date  conf   ww     t  nbas  vacances_zone_c  bank_days  \\\n",
       "0    2020-09-01 00:00:00     0  1.0  12.6   0.0              0.0        0.0   \n",
       "1    2020-09-01 01:00:00     0  0.0  12.6   0.0              0.0        0.0   \n",
       "2    2020-09-01 02:00:00     0  0.0  12.6   0.0              0.0        0.0   \n",
       "3    2020-09-01 03:00:00     0  2.0  10.8   0.0              0.0        0.0   \n",
       "4    2020-09-01 04:00:00     0  0.0  10.8   0.0              0.0        0.0   \n",
       "...                  ...   ...  ...   ...   ...              ...        ...   \n",
       "9884 2021-10-17 20:00:00     0  0.0  12.5   0.0              0.0        0.0   \n",
       "9885 2021-10-17 21:00:00     0  1.0   9.6   0.0              0.0        0.0   \n",
       "9886 2021-10-17 22:00:00     0  0.0   9.6   0.0              0.0        0.0   \n",
       "9887 2021-10-17 23:00:00     0  0.0   9.6   0.0              0.0        0.0   \n",
       "9888 2021-10-18 00:00:00     0  2.0   6.1   0.0              0.0        0.0   \n",
       "\n",
       "      strike_rate  \n",
       "0             0.0  \n",
       "1             0.0  \n",
       "2             0.0  \n",
       "3             0.0  \n",
       "4             0.0  \n",
       "...           ...  \n",
       "9884          NaN  \n",
       "9885          NaN  \n",
       "9886          NaN  \n",
       "9887          NaN  \n",
       "9888          NaN  \n",
       "\n",
       "[9889 rows x 8 columns]"
      ]
     },
     "execution_count": 133,
     "metadata": {},
     "output_type": "execute_result"
    }
   ],
   "source": [
    "ext_7f"
   ]
  },
  {
   "cell_type": "code",
   "execution_count": 134,
   "id": "89d72234",
   "metadata": {},
   "outputs": [
    {
     "data": {
      "text/plain": [
       "date                 0\n",
       "conf                 0\n",
       "ww                   0\n",
       "t                    0\n",
       "nbas                15\n",
       "vacances_zone_c      2\n",
       "bank_days            2\n",
       "strike_rate        915\n",
       "dtype: int64"
      ]
     },
     "execution_count": 134,
     "metadata": {},
     "output_type": "execute_result"
    }
   ],
   "source": [
    "ext_7f.isna().sum()"
   ]
  },
  {
   "cell_type": "code",
   "execution_count": 135,
   "id": "ecc2558c",
   "metadata": {},
   "outputs": [],
   "source": [
    "ext_7f.vacances_zone_c.replace(np.nan, 0, inplace=True)"
   ]
  },
  {
   "cell_type": "code",
   "execution_count": 136,
   "id": "9680b88b",
   "metadata": {},
   "outputs": [],
   "source": [
    "ext_7f.bank_days.replace(np.nan, 0, inplace=True)"
   ]
  },
  {
   "cell_type": "code",
   "execution_count": 137,
   "id": "75b08c31",
   "metadata": {},
   "outputs": [
    {
     "data": {
      "text/plain": [
       "date                 0\n",
       "conf                 0\n",
       "ww                   0\n",
       "t                    0\n",
       "nbas                15\n",
       "vacances_zone_c      0\n",
       "bank_days            0\n",
       "strike_rate        915\n",
       "dtype: int64"
      ]
     },
     "execution_count": 137,
     "metadata": {},
     "output_type": "execute_result"
    }
   ],
   "source": [
    "ext_7f.isna().sum()"
   ]
  },
  {
   "cell_type": "code",
   "execution_count": 138,
   "id": "c60a59f1",
   "metadata": {},
   "outputs": [],
   "source": [
    "ext_7f.to_csv(r'C:\\Users\\CEDI\\Dropbox\\Education\\X\\Python for Data Science\\bike_counters\\ext_data\\ext_7f.csv')"
   ]
  }
 ],
 "metadata": {
  "kernelspec": {
   "display_name": "Python 3 (ipykernel)",
   "language": "python",
   "name": "python3"
  },
  "language_info": {
   "codemirror_mode": {
    "name": "ipython",
    "version": 3
   },
   "file_extension": ".py",
   "mimetype": "text/x-python",
   "name": "python",
   "nbconvert_exporter": "python",
   "pygments_lexer": "ipython3",
   "version": "3.9.13"
  }
 },
 "nbformat": 4,
 "nbformat_minor": 5
}
